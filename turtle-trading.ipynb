{
 "cells": [
  {
   "cell_type": "code",
   "execution_count": 142,
   "metadata": {
    "collapsed": false
   },
   "outputs": [],
   "source": [
    "context = {}\n",
    "\n",
    "context['symbols'] = [\n",
    "    'BP',\n",
    "    'CD',\n",
    "    'CL',\n",
    "    'ED',\n",
    "    'GC',\n",
    "    'HG',\n",
    "    'HO',\n",
    "    'HU',\n",
    "    'JY',\n",
    "    'SB',\n",
    "    'SF',\n",
    "    'SP',\n",
    "    'SV',\n",
    "    'TB',\n",
    "    'TY',\n",
    "    'US'\n",
    "]\n",
    "\n",
    "assert(len(context['symbols']) == 16)"
   ]
  },
  {
   "cell_type": "code",
   "execution_count": 144,
   "metadata": {
    "collapsed": false
   },
   "outputs": [],
   "source": [
    "from quantopian.research.experimental import continuous_future\n",
    "\n",
    "context['markets'] = map(\n",
    "    lambda market: continuous_future(market),\n",
    "    context['symbols']\n",
    ")\n",
    "\n",
    "assert(len(context['markets']) == 16)"
   ]
  },
  {
   "cell_type": "code",
   "execution_count": 158,
   "metadata": {
    "collapsed": false
   },
   "outputs": [],
   "source": [
    "from quantopian.research.experimental import history\n",
    "\n",
    "fields = ['high', 'low', 'close_price']\n",
    "start_date = '2017-02-27'\n",
    "end_date = '2017-03-31'\n",
    "frequency = 'daily'\n",
    "\n",
    "context['prices'] = history(\n",
    "    context['markets'],\n",
    "    fields=fields,\n",
    "    frequency=frequency,\n",
    "    start_date=start_date,\n",
    "    end_date=end_date\n",
    ")\n",
    "\n",
    "assert(context['prices'].shape == (3, 25, 16))"
   ]
  },
  {
   "cell_type": "code",
   "execution_count": 160,
   "metadata": {
    "collapsed": false
   },
   "outputs": [],
   "source": [
    "context['prices'].dropna(axis=2, inplace=True)\n",
    "\n",
    "assert(context['prices'].shape == (3, 25, 14))"
   ]
  },
  {
   "cell_type": "code",
   "execution_count": 162,
   "metadata": {
    "collapsed": false
   },
   "outputs": [],
   "source": [
    "if len(context['prices'].items) == len(fields):\n",
    "    context['prices'] = context['prices'].transpose(2, 1, 0)\n",
    "    context['prices'] = context['prices'].reindex()\n",
    "\n",
    "assert(context['prices'].shape == (14, 25, 3))"
   ]
  },
  {
   "cell_type": "code",
   "execution_count": 167,
   "metadata": {
    "collapsed": false
   },
   "outputs": [
    {
     "name": "stdout",
     "output_type": "stream",
     "text": [
      "('BP', 0.010249999999999959)\n",
      "('CD', 0.0043000000000000035)\n",
      "('CL', 1.2441000000000009)\n",
      "('ED', 0.02049999999999912)\n",
      "('GC', 12.243899999999963)\n",
      "('HG', 0.04830000000000001)\n",
      "('HO', 0.033899999999999951)\n",
      "('JY', 0.0)\n",
      "('SB', 0.0051999999999999989)\n",
      "('SF', 0.0065500000000000332)\n",
      "('SP', 15.539249999999925)\n",
      "('SV', 0.26300000000000096)\n",
      "('TY', 0.48739999999999883)\n",
      "('US', 1.1889500000000026)\n"
     ]
    }
   ],
   "source": [
    "from talib import ATR\n",
    "\n",
    "rolling_window = 21\n",
    "moving_average = 20\n",
    "\n",
    "for market in context['prices'].items:\n",
    "    average_true_range = ATR(\n",
    "        context['prices'][market].high[-rolling_window:],\n",
    "        context['prices'][market].low[-rolling_window:],\n",
    "        context['prices'][market].close_price[-rolling_window:],\n",
    "        timeperiod=moving_average\n",
    "    )[-1]\n",
    "    \n",
    "    print(market.root_symbol, average_true_range)"
   ]
  },
  {
   "cell_type": "code",
   "execution_count": 131,
   "metadata": {
    "collapsed": false
   },
   "outputs": [
    {
     "name": "stdout",
     "output_type": "stream",
     "text": [
      "USM17\n",
      "TYM17\n",
      "SBK17\n",
      "SFH17\n",
      "BPH17\n",
      "JYH17\n",
      "CDH17\n",
      "SPH17\n",
      "EDH17\n",
      "GCJ17\n",
      "SVK17\n",
      "HGK17\n",
      "CLJ17\n",
      "HOJ17\n"
     ]
    }
   ],
   "source": [
    "for market in futures_contracts:\n",
    "    contract = futures_contracts[market].contract[0]\n",
    "    \n",
    "    if contract is not None:\n",
    "        print(contract.symbol)"
   ]
  },
  {
   "cell_type": "code",
   "execution_count": 7,
   "metadata": {
    "collapsed": false
   },
   "outputs": [
    {
     "data": {
      "text/plain": [
       "1.3402499999999962"
      ]
     },
     "execution_count": 7,
     "metadata": {},
     "output_type": "execute_result"
    }
   ],
   "source": [
    "DOLLARS_PER_POINT = 1\n",
    "\n",
    "dollar_volatility = volatility * DOLLARS_PER_POINT\n",
    "\n",
    "dollar_volatility"
   ]
  },
  {
   "cell_type": "code",
   "execution_count": 8,
   "metadata": {
    "collapsed": false
   },
   "outputs": [
    {
     "data": {
      "text/plain": [
       "5969"
      ]
     },
     "execution_count": 8,
     "metadata": {},
     "output_type": "execute_result"
    }
   ],
   "source": [
    "CAPITAL_PERCENTAGE_PER_TRADE = 0.01\n",
    "START_CAPITAL = 1000000\n",
    "CURRENT_CAPITAL = 900000\n",
    "CAPITAL_MULTIPLIER = 2\n",
    "\n",
    "profit = CURRENT_CAPITAL - START_CAPITAL\n",
    "available_capital = START_CAPITAL\n",
    "\n",
    "if profit < 0:\n",
    "    available_capital = START_CAPITAL + profit * CAPITAL_MULTIPLIER\n",
    "\n",
    "capital_per_trade = available_capital * CAPITAL_PERCENTAGE_PER_TRADE\n",
    "trade_size = capital_per_trade / dollar_volatility\n",
    "\n",
    "int(trade_size)"
   ]
  },
  {
   "cell_type": "code",
   "execution_count": 9,
   "metadata": {
    "collapsed": false
   },
   "outputs": [],
   "source": [
    "TWENTY_DAY_BREAKOUT = 20\n",
    "FIFTY_FIVE_DAY_BREAKOUT = 55"
   ]
  },
  {
   "cell_type": "code",
   "execution_count": 10,
   "metadata": {
    "collapsed": false
   },
   "outputs": [
    {
     "data": {
      "text/plain": [
       "240.19"
      ]
     },
     "execution_count": 10,
     "metadata": {},
     "output_type": "execute_result"
    }
   ],
   "source": [
    "twenty_day_high = prices.high[-TWENTY_DAY_BREAKOUT:].max()\n",
    "\n",
    "twenty_day_high"
   ]
  },
  {
   "cell_type": "code",
   "execution_count": 11,
   "metadata": {
    "collapsed": false
   },
   "outputs": [
    {
     "data": {
      "text/plain": [
       "240.19"
      ]
     },
     "execution_count": 11,
     "metadata": {},
     "output_type": "execute_result"
    }
   ],
   "source": [
    "fifty_five_day_high = prices.high[-FIFTY_FIVE_DAY_BREAKOUT:].max()\n",
    "\n",
    "fifty_five_day_high"
   ]
  },
  {
   "cell_type": "code",
   "execution_count": 12,
   "metadata": {
    "collapsed": false
   },
   "outputs": [
    {
     "data": {
      "text/plain": [
       "232.88"
      ]
     },
     "execution_count": 12,
     "metadata": {},
     "output_type": "execute_result"
    }
   ],
   "source": [
    "twenty_day_low = prices.low[-TWENTY_DAY_BREAKOUT:].min()\n",
    "\n",
    "twenty_day_low"
   ]
  },
  {
   "cell_type": "code",
   "execution_count": 13,
   "metadata": {
    "collapsed": false
   },
   "outputs": [
    {
     "data": {
      "text/plain": [
       "231.61000000000001"
      ]
     },
     "execution_count": 13,
     "metadata": {},
     "output_type": "execute_result"
    }
   ],
   "source": [
    "fifty_five_day_low = prices.low[-FIFTY_FIVE_DAY_BREAKOUT:].min()\n",
    "\n",
    "fifty_five_day_low"
   ]
  },
  {
   "cell_type": "code",
   "execution_count": 14,
   "metadata": {
    "collapsed": false
   },
   "outputs": [
    {
     "data": {
      "text/plain": [
       "239.03"
      ]
     },
     "execution_count": 14,
     "metadata": {},
     "output_type": "execute_result"
    }
   ],
   "source": [
    "latest_price = prices.price[-1]\n",
    "\n",
    "latest_price"
   ]
  },
  {
   "cell_type": "code",
   "execution_count": 15,
   "metadata": {
    "collapsed": false
   },
   "outputs": [
    {
     "name": "stdout",
     "output_type": "stream",
     "text": [
      "System one: No signal\n"
     ]
    }
   ],
   "source": [
    "def get_system_one_entry_signal():\n",
    "    \"\"\"\n",
    "    Get 20 day breakout entry signal.\n",
    "    \n",
    "    Does not factor in outcome of previous entry signal.\n",
    "    \"\"\"\n",
    "    if latest_price > twenty_day_high:\n",
    "        print('System one: Long %s %i@%.2f' % (symbols, trade_size, latest_price))\n",
    "    elif latest_price < twenty_day_low:\n",
    "        print('System one: Short %s %i@%.2f' % (symbols, trade_size, latest_price))\n",
    "    else:\n",
    "        print('System one: No signal')\n",
    "        \n",
    "get_system_one_entry_signal()"
   ]
  },
  {
   "cell_type": "code",
   "execution_count": 16,
   "metadata": {
    "collapsed": false
   },
   "outputs": [
    {
     "name": "stdout",
     "output_type": "stream",
     "text": [
      "System two: No signal\n"
     ]
    }
   ],
   "source": [
    "def get_system_two_entry_signal():\n",
    "    \"\"\"\n",
    "    Get 55 day breakout entry signal.\n",
    "    \"\"\"\n",
    "    if latest_price > fifty_five_day_high:\n",
    "        print('System two: Long %s %i@%.2f' % (symbols, trade_size, latest_price))\n",
    "    elif latest_price < fifty_five_day_low:\n",
    "        print('System two: Short %s %i@%.2f' % (symbols, trade_size, latest_price))\n",
    "    else:\n",
    "        print('System two: No signal')\n",
    "        \n",
    "get_system_two_entry_signal()"
   ]
  },
  {
   "cell_type": "code",
   "execution_count": 17,
   "metadata": {
    "collapsed": false
   },
   "outputs": [
    {
     "name": "stdout",
     "output_type": "stream",
     "text": [
      "System one: No signal\n"
     ]
    }
   ],
   "source": [
    "latest_price = 240\n",
    "\n",
    "get_system_one_entry_signal()"
   ]
  },
  {
   "cell_type": "code",
   "execution_count": 18,
   "metadata": {
    "collapsed": false
   },
   "outputs": [
    {
     "name": "stdout",
     "output_type": "stream",
     "text": [
      "System one: Short SPY 5969@232.00\n"
     ]
    }
   ],
   "source": [
    "latest_price = 232\n",
    "\n",
    "get_system_one_entry_signal()"
   ]
  },
  {
   "cell_type": "code",
   "execution_count": 19,
   "metadata": {
    "collapsed": false
   },
   "outputs": [
    {
     "name": "stdout",
     "output_type": "stream",
     "text": [
      "System two: No signal\n"
     ]
    }
   ],
   "source": [
    "latest_price = 240\n",
    "\n",
    "get_system_two_entry_signal()"
   ]
  },
  {
   "cell_type": "code",
   "execution_count": 20,
   "metadata": {
    "collapsed": false
   },
   "outputs": [
    {
     "name": "stdout",
     "output_type": "stream",
     "text": [
      "System two: Short SPY 5969@231.00\n"
     ]
    }
   ],
   "source": [
    "latest_price = 231\n",
    "\n",
    "get_system_two_entry_signal()"
   ]
  },
  {
   "cell_type": "code",
   "execution_count": 21,
   "metadata": {
    "collapsed": false
   },
   "outputs": [],
   "source": [
    "def add_unit():\n",
    "    \"\"\"\n",
    "    Add to position if price exceeds threshold.\n",
    "    \"\"\"\n",
    "    previous_fill_price = 240\n",
    "\n",
    "    long_threshold = previous_fill_price + volatility / 2\n",
    "    short_threshold = previous_fill_price - volatility / 2\n",
    "\n",
    "    if latest_price > long_threshold:\n",
    "        print('Long %s %i@%.2f' % (symbols, trade_size, latest_price))\n",
    "    elif latest_price < short_threshold:\n",
    "        print('Short %s %i@%.2f' % (symbols, trade_size, latest_price))\n",
    "    else:\n",
    "        print('No signal')"
   ]
  },
  {
   "cell_type": "code",
   "execution_count": 22,
   "metadata": {
    "collapsed": false
   },
   "outputs": [
    {
     "name": "stdout",
     "output_type": "stream",
     "text": [
      "Long SPY 5969@241.00\n"
     ]
    }
   ],
   "source": [
    "latest_price = 241\n",
    "\n",
    "add_unit()"
   ]
  },
  {
   "cell_type": "code",
   "execution_count": 23,
   "metadata": {
    "collapsed": false
   },
   "outputs": [
    {
     "name": "stdout",
     "output_type": "stream",
     "text": [
      "Short SPY 5969@239.00\n"
     ]
    }
   ],
   "source": [
    "latest_price = 239\n",
    "\n",
    "add_unit()"
   ]
  },
  {
   "cell_type": "code",
   "execution_count": 24,
   "metadata": {
    "collapsed": false
   },
   "outputs": [
    {
     "name": "stdout",
     "output_type": "stream",
     "text": [
      "No signal\n"
     ]
    }
   ],
   "source": [
    "latest_price = 239.5\n",
    "\n",
    "add_unit()"
   ]
  },
  {
   "cell_type": "code",
   "execution_count": 25,
   "metadata": {
    "collapsed": false
   },
   "outputs": [
    {
     "data": {
      "text/plain": [
       "237.31950000000001"
      ]
     },
     "execution_count": 25,
     "metadata": {},
     "output_type": "execute_result"
    }
   ],
   "source": [
    "STOP_MULTIPLIER = 2\n",
    "\n",
    "entry_price = 240\n",
    "stop = entry_price - volatility * STOP_MULTIPLIER\n",
    "\n",
    "stop"
   ]
  },
  {
   "cell_type": "code",
   "execution_count": 26,
   "metadata": {
    "collapsed": false
   },
   "outputs": [
    {
     "data": {
      "text/plain": [
       "239.32987500000002"
      ]
     },
     "execution_count": 26,
     "metadata": {},
     "output_type": "execute_result"
    }
   ],
   "source": [
    "# Re-enter if price hits entry price after stopped out\n",
    "STOP_MULTIPLIER = 0.5\n",
    "\n",
    "entry_price = 240\n",
    "stop = entry_price - volatility * STOP_MULTIPLIER\n",
    "\n",
    "stop"
   ]
  },
  {
   "cell_type": "code",
   "execution_count": 27,
   "metadata": {
    "collapsed": true
   },
   "outputs": [],
   "source": [
    "TEN_DAY_EXIT_BREAKOUT = 10\n",
    "TWENTY_DAY_EXIT_BREAKOUT = 20"
   ]
  },
  {
   "cell_type": "code",
   "execution_count": 28,
   "metadata": {
    "collapsed": false
   },
   "outputs": [
    {
     "data": {
      "text/plain": [
       "240.19"
      ]
     },
     "execution_count": 28,
     "metadata": {},
     "output_type": "execute_result"
    }
   ],
   "source": [
    "ten_day_high = prices.high[-TEN_DAY_EXIT_BREAKOUT:].max()\n",
    "\n",
    "ten_day_high"
   ]
  },
  {
   "cell_type": "code",
   "execution_count": 29,
   "metadata": {
    "collapsed": false
   },
   "outputs": [
    {
     "data": {
      "text/plain": [
       "237.69999999999999"
      ]
     },
     "execution_count": 29,
     "metadata": {},
     "output_type": "execute_result"
    }
   ],
   "source": [
    "ten_day_low = prices.low[-TEN_DAY_EXIT_BREAKOUT:].min()\n",
    "\n",
    "ten_day_low"
   ]
  },
  {
   "cell_type": "code",
   "execution_count": 30,
   "metadata": {
    "collapsed": false
   },
   "outputs": [
    {
     "data": {
      "text/plain": [
       "240.19"
      ]
     },
     "execution_count": 30,
     "metadata": {},
     "output_type": "execute_result"
    }
   ],
   "source": [
    "twenty_day_high = prices.high[-TWENTY_DAY_EXIT_BREAKOUT:].max()\n",
    "\n",
    "twenty_day_high"
   ]
  },
  {
   "cell_type": "code",
   "execution_count": 31,
   "metadata": {
    "collapsed": false
   },
   "outputs": [
    {
     "data": {
      "text/plain": [
       "232.88"
      ]
     },
     "execution_count": 31,
     "metadata": {},
     "output_type": "execute_result"
    }
   ],
   "source": [
    "twenty_day_low = prices.low[-TWENTY_DAY_EXIT_BREAKOUT:].min()\n",
    "\n",
    "twenty_day_low"
   ]
  },
  {
   "cell_type": "code",
   "execution_count": 32,
   "metadata": {
    "collapsed": true
   },
   "outputs": [],
   "source": [
    "def get_system_one_exit_signal():\n",
    "    if position_type == 'long' and latest_price < ten_day_low \\\n",
    "            or position_type == 'short' and latest_price > ten_day_high:\n",
    "        print('System one: Close %s' % symbols)\n",
    "    else:\n",
    "        print('System one: No signal')"
   ]
  },
  {
   "cell_type": "code",
   "execution_count": 33,
   "metadata": {
    "collapsed": true
   },
   "outputs": [],
   "source": [
    "def get_system_two_exit_signal():\n",
    "    if position_type == 'long' and latest_price < twenty_day_low \\\n",
    "            or position_type == 'short' and latest_price > twenty_day_high:\n",
    "        print('System two: Close %s' % symbols)\n",
    "    else:\n",
    "        print('System two: No signal')"
   ]
  },
  {
   "cell_type": "code",
   "execution_count": 34,
   "metadata": {
    "collapsed": false
   },
   "outputs": [
    {
     "name": "stdout",
     "output_type": "stream",
     "text": [
      "System one: Close SPY\n"
     ]
    }
   ],
   "source": [
    "position_type = 'long'\n",
    "latest_price = 236\n",
    "\n",
    "get_system_one_exit_signal()"
   ]
  },
  {
   "cell_type": "code",
   "execution_count": 35,
   "metadata": {
    "collapsed": false
   },
   "outputs": [
    {
     "name": "stdout",
     "output_type": "stream",
     "text": [
      "System one: No signal\n"
     ]
    }
   ],
   "source": [
    "position_type = 'short'\n",
    "latest_price = 240\n",
    "\n",
    "get_system_one_exit_signal()"
   ]
  },
  {
   "cell_type": "code",
   "execution_count": 36,
   "metadata": {
    "collapsed": false
   },
   "outputs": [
    {
     "name": "stdout",
     "output_type": "stream",
     "text": [
      "System one: Close SPY\n"
     ]
    }
   ],
   "source": [
    "position_type = 'long'\n",
    "latest_price = 237\n",
    "\n",
    "get_system_one_exit_signal()"
   ]
  },
  {
   "cell_type": "code",
   "execution_count": 37,
   "metadata": {
    "collapsed": false
   },
   "outputs": [
    {
     "name": "stdout",
     "output_type": "stream",
     "text": [
      "System two: Close SPY\n"
     ]
    }
   ],
   "source": [
    "position_type = 'long'\n",
    "latest_price = 232\n",
    "\n",
    "get_system_two_exit_signal()"
   ]
  },
  {
   "cell_type": "code",
   "execution_count": 38,
   "metadata": {
    "collapsed": false
   },
   "outputs": [
    {
     "name": "stdout",
     "output_type": "stream",
     "text": [
      "System two: No signal\n"
     ]
    }
   ],
   "source": [
    "position_type = 'short'\n",
    "latest_price = 240\n",
    "\n",
    "get_system_two_exit_signal()"
   ]
  },
  {
   "cell_type": "code",
   "execution_count": 39,
   "metadata": {
    "collapsed": false
   },
   "outputs": [
    {
     "name": "stdout",
     "output_type": "stream",
     "text": [
      "System two: No signal\n"
     ]
    }
   ],
   "source": [
    "position_type = 'long'\n",
    "latest_price = 233\n",
    "\n",
    "get_system_two_exit_signal()"
   ]
  }
 ],
 "metadata": {
  "kernelspec": {
   "display_name": "Python 2",
   "language": "python",
   "name": "python2"
  },
  "language_info": {
   "codemirror_mode": {
    "name": "ipython",
    "version": 2
   },
   "file_extension": ".py",
   "mimetype": "text/x-python",
   "name": "python",
   "nbconvert_exporter": "python",
   "pygments_lexer": "ipython2",
   "version": "2.7.12"
  }
 },
 "nbformat": 4,
 "nbformat_minor": 2
}