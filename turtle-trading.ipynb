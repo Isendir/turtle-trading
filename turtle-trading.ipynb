{
 "cells": [
  {
   "cell_type": "markdown",
   "metadata": {},
   "source": [
    "# Market"
   ]
  },
  {
   "cell_type": "code",
   "execution_count": 25,
   "metadata": {
    "collapsed": false
   },
   "outputs": [],
   "source": [
    "symbols = 'SPY'\n",
    "# symbols = ['SPY', 'GLD', 'SLV']"
   ]
  },
  {
   "cell_type": "markdown",
   "metadata": {
    "collapsed": true
   },
   "source": [
    "# Position size"
   ]
  },
  {
   "cell_type": "code",
   "execution_count": 26,
   "metadata": {
    "collapsed": false
   },
   "outputs": [
    {
     "data": {
      "text/html": [
       "<div>\n",
       "<table border=\"1\" class=\"dataframe\">\n",
       "  <thead>\n",
       "    <tr style=\"text-align: right;\">\n",
       "      <th></th>\n",
       "      <th>high</th>\n",
       "      <th>low</th>\n",
       "      <th>close_price</th>\n",
       "    </tr>\n",
       "  </thead>\n",
       "  <tbody>\n",
       "    <tr>\n",
       "      <th>2017-04-06 00:00:00+00:00</th>\n",
       "      <td>236.040</td>\n",
       "      <td>234.425</td>\n",
       "      <td>235.39</td>\n",
       "    </tr>\n",
       "    <tr>\n",
       "      <th>2017-04-07 00:00:00+00:00</th>\n",
       "      <td>236.000</td>\n",
       "      <td>234.640</td>\n",
       "      <td>235.16</td>\n",
       "    </tr>\n",
       "    <tr>\n",
       "      <th>2017-04-10 00:00:00+00:00</th>\n",
       "      <td>236.255</td>\n",
       "      <td>234.730</td>\n",
       "      <td>235.32</td>\n",
       "    </tr>\n",
       "    <tr>\n",
       "      <th>2017-04-11 00:00:00+00:00</th>\n",
       "      <td>235.180</td>\n",
       "      <td>233.340</td>\n",
       "      <td>235.04</td>\n",
       "    </tr>\n",
       "    <tr>\n",
       "      <th>2017-04-12 00:00:00+00:00</th>\n",
       "      <td>234.960</td>\n",
       "      <td>233.770</td>\n",
       "      <td>234.10</td>\n",
       "    </tr>\n",
       "    <tr>\n",
       "      <th>2017-04-13 00:00:00+00:00</th>\n",
       "      <td>234.490</td>\n",
       "      <td>232.550</td>\n",
       "      <td>232.55</td>\n",
       "    </tr>\n",
       "    <tr>\n",
       "      <th>2017-04-17 00:00:00+00:00</th>\n",
       "      <td>234.570</td>\n",
       "      <td>232.880</td>\n",
       "      <td>234.56</td>\n",
       "    </tr>\n",
       "    <tr>\n",
       "      <th>2017-04-18 00:00:00+00:00</th>\n",
       "      <td>234.490</td>\n",
       "      <td>233.080</td>\n",
       "      <td>233.86</td>\n",
       "    </tr>\n",
       "    <tr>\n",
       "      <th>2017-04-19 00:00:00+00:00</th>\n",
       "      <td>234.950</td>\n",
       "      <td>233.180</td>\n",
       "      <td>233.48</td>\n",
       "    </tr>\n",
       "    <tr>\n",
       "      <th>2017-04-20 00:00:00+00:00</th>\n",
       "      <td>235.845</td>\n",
       "      <td>233.780</td>\n",
       "      <td>235.29</td>\n",
       "    </tr>\n",
       "    <tr>\n",
       "      <th>2017-04-21 00:00:00+00:00</th>\n",
       "      <td>235.310</td>\n",
       "      <td>234.130</td>\n",
       "      <td>234.60</td>\n",
       "    </tr>\n",
       "    <tr>\n",
       "      <th>2017-04-24 00:00:00+00:00</th>\n",
       "      <td>237.410</td>\n",
       "      <td>236.610</td>\n",
       "      <td>237.11</td>\n",
       "    </tr>\n",
       "    <tr>\n",
       "      <th>2017-04-25 00:00:00+00:00</th>\n",
       "      <td>238.950</td>\n",
       "      <td>237.810</td>\n",
       "      <td>238.54</td>\n",
       "    </tr>\n",
       "    <tr>\n",
       "      <th>2017-04-26 00:00:00+00:00</th>\n",
       "      <td>239.530</td>\n",
       "      <td>238.350</td>\n",
       "      <td>238.44</td>\n",
       "    </tr>\n",
       "    <tr>\n",
       "      <th>2017-04-27 00:00:00+00:00</th>\n",
       "      <td>238.950</td>\n",
       "      <td>237.980</td>\n",
       "      <td>238.61</td>\n",
       "    </tr>\n",
       "    <tr>\n",
       "      <th>2017-04-28 00:00:00+00:00</th>\n",
       "      <td>238.930</td>\n",
       "      <td>237.930</td>\n",
       "      <td>238.11</td>\n",
       "    </tr>\n",
       "    <tr>\n",
       "      <th>2017-05-01 00:00:00+00:00</th>\n",
       "      <td>239.170</td>\n",
       "      <td>238.195</td>\n",
       "      <td>238.65</td>\n",
       "    </tr>\n",
       "    <tr>\n",
       "      <th>2017-05-02 00:00:00+00:00</th>\n",
       "      <td>238.980</td>\n",
       "      <td>238.300</td>\n",
       "      <td>238.78</td>\n",
       "    </tr>\n",
       "    <tr>\n",
       "      <th>2017-05-03 00:00:00+00:00</th>\n",
       "      <td>238.877</td>\n",
       "      <td>237.700</td>\n",
       "      <td>238.52</td>\n",
       "    </tr>\n",
       "    <tr>\n",
       "      <th>2017-05-04 00:00:00+00:00</th>\n",
       "      <td>238.923</td>\n",
       "      <td>237.780</td>\n",
       "      <td>238.74</td>\n",
       "    </tr>\n",
       "    <tr>\n",
       "      <th>2017-05-05 00:00:00+00:00</th>\n",
       "      <td>239.720</td>\n",
       "      <td>238.680</td>\n",
       "      <td>239.72</td>\n",
       "    </tr>\n",
       "  </tbody>\n",
       "</table>\n",
       "</div>"
      ],
      "text/plain": [
       "                              high      low  close_price\n",
       "2017-04-06 00:00:00+00:00  236.040  234.425       235.39\n",
       "2017-04-07 00:00:00+00:00  236.000  234.640       235.16\n",
       "2017-04-10 00:00:00+00:00  236.255  234.730       235.32\n",
       "2017-04-11 00:00:00+00:00  235.180  233.340       235.04\n",
       "2017-04-12 00:00:00+00:00  234.960  233.770       234.10\n",
       "2017-04-13 00:00:00+00:00  234.490  232.550       232.55\n",
       "2017-04-17 00:00:00+00:00  234.570  232.880       234.56\n",
       "2017-04-18 00:00:00+00:00  234.490  233.080       233.86\n",
       "2017-04-19 00:00:00+00:00  234.950  233.180       233.48\n",
       "2017-04-20 00:00:00+00:00  235.845  233.780       235.29\n",
       "2017-04-21 00:00:00+00:00  235.310  234.130       234.60\n",
       "2017-04-24 00:00:00+00:00  237.410  236.610       237.11\n",
       "2017-04-25 00:00:00+00:00  238.950  237.810       238.54\n",
       "2017-04-26 00:00:00+00:00  239.530  238.350       238.44\n",
       "2017-04-27 00:00:00+00:00  238.950  237.980       238.61\n",
       "2017-04-28 00:00:00+00:00  238.930  237.930       238.11\n",
       "2017-05-01 00:00:00+00:00  239.170  238.195       238.65\n",
       "2017-05-02 00:00:00+00:00  238.980  238.300       238.78\n",
       "2017-05-03 00:00:00+00:00  238.877  237.700       238.52\n",
       "2017-05-04 00:00:00+00:00  238.923  237.780       238.74\n",
       "2017-05-05 00:00:00+00:00  239.720  238.680       239.72"
      ]
     },
     "execution_count": 26,
     "metadata": {},
     "output_type": "execute_result"
    }
   ],
   "source": [
    "from datetime import datetime, timedelta\n",
    "\n",
    "from pandas.tseries.offsets import BDay\n",
    "from quantopian.research import get_pricing\n",
    "\n",
    "SLIDING_WINDOW = 22\n",
    "\n",
    "end_date = datetime.now()\n",
    "start_date = end_date - BDay(SLIDING_WINDOW)\n",
    "\n",
    "prices = get_pricing(\n",
    "    symbols,\n",
    "    start_date=start_date,\n",
    "    end_date=end_date,\n",
    "    fields=[\n",
    "        'high',\n",
    "        'low',\n",
    "        'close_price'\n",
    "    ]\n",
    ")\n",
    "\n",
    "prices"
   ]
  },
  {
   "cell_type": "code",
   "execution_count": 29,
   "metadata": {
    "collapsed": false
   },
   "outputs": [
    {
     "data": {
      "text/plain": [
       "1.4894999999999954"
      ]
     },
     "execution_count": 29,
     "metadata": {},
     "output_type": "execute_result"
    }
   ],
   "source": [
    "from talib import ATR\n",
    "\n",
    "volatility = ATR(prices.high, prices.low, prices.close_price, timeperiod=20)[-1]\n",
    "\n",
    "volatility"
   ]
  },
  {
   "cell_type": "code",
   "execution_count": 30,
   "metadata": {
    "collapsed": false
   },
   "outputs": [
    {
     "data": {
      "text/plain": [
       "1.4894999999999954"
      ]
     },
     "execution_count": 30,
     "metadata": {},
     "output_type": "execute_result"
    }
   ],
   "source": [
    "DOLLARS_PER_POINT = 1\n",
    "\n",
    "dollar_volatility = volatility * DOLLARS_PER_POINT\n",
    "\n",
    "dollar_volatility"
   ]
  },
  {
   "cell_type": "code",
   "execution_count": 46,
   "metadata": {
    "collapsed": false
   },
   "outputs": [
    {
     "data": {
      "text/plain": [
       "6713"
      ]
     },
     "execution_count": 46,
     "metadata": {},
     "output_type": "execute_result"
    }
   ],
   "source": [
    "CAPITAL_PERCENTAGE_PER_TRADE = 0.01\n",
    "CAPITAL = 1000000\n",
    "\n",
    "capital_per_trade = CAPITAL * CAPITAL_PERCENTAGE_PER_TRADE\n",
    "trade_size = capital_per_trade / dollar_volatility\n",
    "\n",
    "int(trade_size)"
   ]
  },
  {
   "cell_type": "code",
   "execution_count": null,
   "metadata": {
    "collapsed": true
   },
   "outputs": [],
   "source": []
  }
 ],
 "metadata": {
  "kernelspec": {
   "display_name": "Python 2",
   "language": "python",
   "name": "python2"
  },
  "language_info": {
   "codemirror_mode": {
    "name": "ipython",
    "version": 2
   },
   "file_extension": ".py",
   "mimetype": "text/x-python",
   "name": "python",
   "nbconvert_exporter": "python",
   "pygments_lexer": "ipython2",
   "version": "2.7.12"
  }
 },
 "nbformat": 4,
 "nbformat_minor": 2
}