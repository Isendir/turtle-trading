{
 "cells": [
  {
   "cell_type": "code",
   "execution_count": 2,
   "metadata": {
    "collapsed": false
   },
   "outputs": [],
   "source": [
    "context = {}\n",
    "\n",
    "context['symbols'] = [\n",
    "    'BP',\n",
    "    'CD',\n",
    "    'CL',\n",
    "    'ED',\n",
    "    'GC',\n",
    "    'HG',\n",
    "    'HO',\n",
    "    'HU',\n",
    "    'JY',\n",
    "    'SB',\n",
    "    'SF',\n",
    "    'SP',\n",
    "    'SV',\n",
    "    'TB',\n",
    "    'TY',\n",
    "    'US'\n",
    "]\n",
    "\n",
    "assert(len(context['symbols']) == 16)"
   ]
  },
  {
   "cell_type": "code",
   "execution_count": 3,
   "metadata": {
    "collapsed": false
   },
   "outputs": [],
   "source": [
    "from quantopian.research.experimental import continuous_future\n",
    "\n",
    "context['markets'] = map(\n",
    "    lambda market: continuous_future(market),\n",
    "    context['symbols']\n",
    ")\n",
    "\n",
    "assert(len(context['markets']) == 16)"
   ]
  },
  {
   "cell_type": "code",
   "execution_count": 4,
   "metadata": {
    "collapsed": false
   },
   "outputs": [],
   "source": [
    "from quantopian.research.experimental import history\n",
    "\n",
    "fields = ['high', 'low', 'close_price']\n",
    "start_date = '2017-02-27'\n",
    "end_date = '2017-03-31'\n",
    "frequency = 'daily'\n",
    "\n",
    "context['prices'] = history(\n",
    "    context['markets'],\n",
    "    fields=fields,\n",
    "    frequency=frequency,\n",
    "    start_date=start_date,\n",
    "    end_date=end_date\n",
    ")\n",
    "\n",
    "assert(context['prices'].shape == (3, 25, 16))"
   ]
  },
  {
   "cell_type": "code",
   "execution_count": 5,
   "metadata": {
    "collapsed": false
   },
   "outputs": [],
   "source": [
    "context['prices'].dropna(axis=2, inplace=True)\n",
    "\n",
    "assert(context['prices'].shape == (3, 25, 14))"
   ]
  },
  {
   "cell_type": "code",
   "execution_count": 6,
   "metadata": {
    "collapsed": false
   },
   "outputs": [],
   "source": [
    "if len(context['prices'].items) == len(fields):\n",
    "    context['prices'] = context['prices'].transpose(2, 1, 0)\n",
    "    context['prices'] = context['prices'].reindex()\n",
    "\n",
    "assert(context['prices'].shape == (14, 25, 3))"
   ]
  },
  {
   "cell_type": "code",
   "execution_count": 7,
   "metadata": {
    "collapsed": false
   },
   "outputs": [
    {
     "data": {
      "text/plain": [
       "{ContinuousFuture(90722903447896064, root_symbol='BP', offset=0, roll_style='volume', adjustment='mul'): 0.010249999999999959,\n",
       " ContinuousFuture(90991184285073408, root_symbol='CD', offset=0, roll_style='volume', adjustment='mul'): 0.0043000000000000035,\n",
       " ContinuousFuture(90999980378095616, root_symbol='CL', offset=0, roll_style='volume', adjustment='mul'): 1.2441000000000009,\n",
       " ContinuousFuture(91554134238494720, root_symbol='ED', offset=0, roll_style='volume', adjustment='mul'): 0.02049999999999912,\n",
       " ContinuousFuture(92115984680288256, root_symbol='GC', offset=0, roll_style='volume', adjustment='mul'): 12.243899999999963,\n",
       " ContinuousFuture(92401857703510016, root_symbol='HG', offset=0, roll_style='volume', adjustment='mul'): 0.04830000000000001,\n",
       " ContinuousFuture(92410653796532224, root_symbol='HO', offset=0, roll_style='volume', adjustment='mul'): 0.033899999999999951,\n",
       " ContinuousFuture(92984598866231296, root_symbol='JY', offset=0, roll_style='volume', adjustment='mul'): 0.0,\n",
       " ContinuousFuture(95492584889188352, root_symbol='SB', offset=0, roll_style='volume', adjustment='mul'): 0.0051999999999999989,\n",
       " ContinuousFuture(95496982935699456, root_symbol='SF', offset=0, roll_style='volume', adjustment='mul'): 0.0065500000000000332,\n",
       " ContinuousFuture(95507978051977216, root_symbol='SP', offset=0, roll_style='volume', adjustment='mul'): 15.539249999999925,\n",
       " ContinuousFuture(95514575121743872, root_symbol='SV', offset=0, roll_style='volume', adjustment='mul'): 0.26300000000000096,\n",
       " ContinuousFuture(95799348633337856, root_symbol='TY', offset=0, roll_style='volume', adjustment='mul'): 0.48739999999999883,\n",
       " ContinuousFuture(96074226540281856, root_symbol='US', offset=0, roll_style='volume', adjustment='mul'): 1.1889500000000026}"
      ]
     },
     "execution_count": 7,
     "metadata": {},
     "output_type": "execute_result"
    }
   ],
   "source": [
    "from talib import ATR\n",
    "\n",
    "context['average_true_range'] = {}\n",
    "\n",
    "rolling_window = 21\n",
    "moving_average = 20\n",
    "\n",
    "for market in context['prices'].items:\n",
    "    context['average_true_range'][market] = ATR(\n",
    "        context['prices'][market].high[-rolling_window:],\n",
    "        context['prices'][market].low[-rolling_window:],\n",
    "        context['prices'][market].close_price[-rolling_window:],\n",
    "        timeperiod=moving_average\n",
    "    )[-1]\n",
    "\n",
    "context['average_true_range']"
   ]
  },
  {
   "cell_type": "code",
   "execution_count": 8,
   "metadata": {
    "collapsed": false
   },
   "outputs": [],
   "source": [
    "fields = ['contract']\n",
    "start_date = '2017-03-31'\n",
    "end_date = '2017-03-31'\n",
    "\n",
    "context['contracts'] = history(\n",
    "    context['markets'],\n",
    "    fields=fields,\n",
    "    frequency=frequency,\n",
    "    start_date=start_date,\n",
    "    end_date=end_date\n",
    ")\n",
    "\n",
    "assert(context['contracts'].shape == (1, 1, 16))"
   ]
  },
  {
   "cell_type": "code",
   "execution_count": 9,
   "metadata": {
    "collapsed": false
   },
   "outputs": [],
   "source": [
    "if len(context['contracts'].items) == len(fields):\n",
    "    context['contracts'] = context['contracts'].transpose(2, 1, 0)\n",
    "    context['contracts'] = context['contracts'].reindex()\n",
    "\n",
    "assert(context['contracts'].shape == (16, 1, 1))"
   ]
  },
  {
   "cell_type": "code",
   "execution_count": 10,
   "metadata": {
    "collapsed": false
   },
   "outputs": [
    {
     "name": "stdout",
     "output_type": "stream",
     "text": [
      "(u'BPM17', 0.0001, 62500.0, Timestamp('2017-06-15 00:00:00+0000', tz='UTC'))\n",
      "(u'CDM17', 0.0001, 100000.0, Timestamp('2017-06-16 00:00:00+0000', tz='UTC'))\n",
      "(u'CLK17', 0.01, 1000.0, Timestamp('2017-04-18 00:00:00+0000', tz='UTC'))\n",
      "(u'EDJ17', 0.005, 2500.0, Timestamp('2017-04-12 00:00:00+0000', tz='UTC'))\n",
      "(u'GCM17', 0.1, 100.0, Timestamp('2017-05-29 00:00:00+0000', tz='UTC'))\n",
      "(u'HGK17', 0.0005, 25000.0, Timestamp('2017-04-26 00:00:00+0000', tz='UTC'))\n",
      "(u'HOK17', 0.0001, 42000.0, Timestamp('2017-04-26 00:00:00+0000', tz='UTC'))\n",
      "(u'JYM17', 5e-07, 12500000.0, Timestamp('2017-06-15 00:00:00+0000', tz='UTC'))\n",
      "(u'SBK17', 0.0001, 112000.0, Timestamp('2017-04-26 00:00:00+0000', tz='UTC'))\n",
      "(u'SFM17', 0.0001, 125000.0, Timestamp('2017-06-15 00:00:00+0000', tz='UTC'))\n",
      "(u'SPM17', 0.1, 250.0, Timestamp('2017-06-13 00:00:00+0000', tz='UTC'))\n",
      "(u'SVK17', 0.005, 5000.0, Timestamp('2017-04-26 00:00:00+0000', tz='UTC'))\n",
      "(u'TYM17', 0.015625, 1000.0, Timestamp('2017-05-29 00:00:00+0000', tz='UTC'))\n",
      "(u'USM17', 0.03125, 1000.0, Timestamp('2017-05-29 00:00:00+0000', tz='UTC'))\n"
     ]
    }
   ],
   "source": [
    "for market in context['contracts']:\n",
    "    contract = context['contracts'][market].contract[0]\n",
    "    \n",
    "    if contract is not None:\n",
    "        print(\n",
    "            contract.symbol,\n",
    "            contract.tick_size,\n",
    "            contract.multiplier,\n",
    "            contract.auto_close_date\n",
    "        )"
   ]
  },
  {
   "cell_type": "code",
   "execution_count": 11,
   "metadata": {
    "collapsed": false
   },
   "outputs": [
    {
     "name": "stdout",
     "output_type": "stream",
     "text": [
      "('BP', 1.0249999999999959e-06)\n",
      "('CD', 4.3000000000000038e-07)\n",
      "('CL', 0.012441000000000009)\n",
      "('ED', 0.00010249999999999561)\n",
      "('GC', 1.2243899999999963)\n",
      "('HG', 2.4150000000000004e-05)\n",
      "('HO', 3.3899999999999951e-06)\n",
      "('JY', 0.0)\n",
      "('SB', 5.1999999999999989e-07)\n",
      "('SF', 6.5500000000000336e-07)\n",
      "('SP', 1.5539249999999925)\n",
      "('SV', 0.0013150000000000048)\n",
      "('TY', 0.0076156249999999818)\n",
      "('US', 0.037154687500000082)\n"
     ]
    }
   ],
   "source": [
    "for market in context['contracts']:\n",
    "    contract = context['contracts'][market].contract[0]\n",
    "    \n",
    "    if contract is not None:\n",
    "        dollar_volatility = contract.tick_size * context['average_true_range'][market]\n",
    "        \n",
    "        print(market.root_symbol, dollar_volatility)"
   ]
  },
  {
   "cell_type": "code",
   "execution_count": 12,
   "metadata": {
    "collapsed": false
   },
   "outputs": [
    {
     "data": {
      "text/plain": [
       "215316"
      ]
     },
     "execution_count": 12,
     "metadata": {},
     "output_type": "execute_result"
    }
   ],
   "source": [
    "context['capital_risk_per_trade'] = 0.01\n",
    "context['starting_cash'] = 1000000\n",
    "# context['portfolio_value'] = 1100000\n",
    "context['portfolio_value'] = 900000\n",
    "context['capital_multiplier'] = 2\n",
    "\n",
    "profit = context['portfolio_value'] - context['starting_cash']\n",
    "context['cash'] = context['starting_cash']\n",
    "\n",
    "if profit < 0:\n",
    "    context['cash'] = context['starting_cash'] + profit * context['capital_multiplier']\n",
    "\n",
    "capital_per_trade = context['cash'] * context['capital_risk_per_trade']\n",
    "trade_size = capital_per_trade / dollar_volatility\n",
    "\n",
    "int(trade_size)"
   ]
  },
  {
   "cell_type": "code",
   "execution_count": 28,
   "metadata": {
    "collapsed": false
   },
   "outputs": [],
   "source": [
    "context['twenty_day_breakout'] = 2\n",
    "context['fifty_five_day_breakout'] = 55"
   ]
  },
  {
   "cell_type": "code",
   "execution_count": 36,
   "metadata": {
    "collapsed": false
   },
   "outputs": [
    {
     "name": "stdout",
     "output_type": "stream",
     "text": [
      "('BP', 1.2589999999999999)\n",
      "('BP', 1.2430000000000001)\n",
      "('CD', 0.754)\n",
      "('CD', 0.749)\n",
      "('CL', 50.850000000000001)\n",
      "('CL', 49.270000000000003)\n",
      "('ED', 98.724999999999994)\n",
      "('ED', 98.704999999999998)\n",
      "('GC', 1256.4000000000001)\n",
      "('GC', 1241.5)\n",
      "('HG', 2.7170000000000001)\n",
      "('HG', 2.6320000000000001)\n",
      "('HO', 1.581)\n",
      "('HO', 1.534)\n",
      "('JY', 0.0089999999999999993)\n",
      "('JY', 0.0089999999999999993)\n",
      "('SB', 0.17100000000000001)\n",
      "('SB', 0.16600000000000001)\n",
      "('SF', 1.01)\n",
      "('SF', 1.0009999999999999)\n",
      "('SP', 2367.0)\n",
      "('SP', 2353.6999999999998)\n",
      "('SV', 18.315000000000001)\n",
      "('SV', 18.059999999999999)\n",
      "('TY', 124.688)\n",
      "('TY', 124.23399999999999)\n",
      "('US', 151.5)\n",
      "('US', 150.15600000000001)\n"
     ]
    }
   ],
   "source": [
    "for market in context['prices'].items:\n",
    "    print(market.root_symbol, context['prices'][market].high[-context['twenty_day_breakout']:].max())\n",
    "    print(market.root_symbol, context['prices'][market].low[-context['twenty_day_breakout']:].min())\n",
    "#     print(market.root_symbol, context['prices'][market].high[-context['twenty_day_breakout']-1:-1])\n",
    "#     print(market.root_symbol, context['prices'][market].low[-context['twenty_day_breakout']-1:-1])"
   ]
  },
  {
   "cell_type": "code",
   "execution_count": 37,
   "metadata": {
    "collapsed": false
   },
   "outputs": [
    {
     "name": "stdout",
     "output_type": "stream",
     "text": [
      "('BP', 1.264)\n",
      "('BP', 1.214)\n",
      "('CD', 0.76500000000000001)\n",
      "('CD', 0.73999999999999999)\n",
      "('CL', 55.146999999999998)\n",
      "('CL', 47.009999999999998)\n",
      "('ED', 98.731999999999999)\n",
      "('ED', 98.635000000000005)\n",
      "('GC', 1268.337)\n",
      "('GC', 1197.7449999999999)\n",
      "('HG', 2.7679999999999998)\n",
      "('HG', 2.5579999999999998)\n",
      "('HO', 1.679)\n",
      "('HO', 1.4830000000000001)\n",
      "('JY', 0.0089999999999999993)\n",
      "('JY', 0.0089999999999999993)\n",
      "('SB', 0.19800000000000001)\n",
      "('SB', 0.16600000000000001)\n",
      "('SF', 1.024)\n",
      "('SF', 0.98899999999999999)\n",
      "('SP', 2403.0439999999999)\n",
      "('SP', 2318.0)\n",
      "('SV', 18.539999999999999)\n",
      "('SV', 16.824999999999999)\n",
      "('TY', 125.09399999999999)\n",
      "('TY', 122.64100000000001)\n",
      "('US', 152.09399999999999)\n",
      "('US', 145.81200000000001)\n"
     ]
    }
   ],
   "source": [
    "for market in context['prices'].items:\n",
    "    print(market.root_symbol, context['prices'][market].high[-context['fifty_five_day_breakout']:].max())\n",
    "    print(market.root_symbol, context['prices'][market].low[-context['fifty_five_day_breakout']:].min())\n",
    "#     print(market.root_symbol, context['prices'][market].high[-context['twenty_day_breakout']-1:-1])\n",
    "#     print(market.root_symbol, context['prices'][market].low[-context['twenty_day_breakout']-1:-1])"
   ]
  },
  {
   "cell_type": "code",
   "execution_count": null,
   "metadata": {
    "collapsed": false
   },
   "outputs": [],
   "source": [
    "twenty_day_high = prices.high[-TWENTY_DAY_BREAKOUT:].max()\n",
    "\n",
    "twenty_day_high"
   ]
  },
  {
   "cell_type": "code",
   "execution_count": null,
   "metadata": {
    "collapsed": false
   },
   "outputs": [],
   "source": [
    "fifty_five_day_high = prices.high[-FIFTY_FIVE_DAY_BREAKOUT:].max()\n",
    "\n",
    "fifty_five_day_high"
   ]
  },
  {
   "cell_type": "code",
   "execution_count": null,
   "metadata": {
    "collapsed": false
   },
   "outputs": [],
   "source": [
    "twenty_day_low = prices.low[-TWENTY_DAY_BREAKOUT:].min()\n",
    "\n",
    "twenty_day_low"
   ]
  },
  {
   "cell_type": "code",
   "execution_count": null,
   "metadata": {
    "collapsed": false
   },
   "outputs": [],
   "source": [
    "fifty_five_day_low = prices.low[-FIFTY_FIVE_DAY_BREAKOUT:].min()\n",
    "\n",
    "fifty_five_day_low"
   ]
  },
  {
   "cell_type": "code",
   "execution_count": null,
   "metadata": {
    "collapsed": false
   },
   "outputs": [],
   "source": [
    "latest_price = prices.price[-1]\n",
    "\n",
    "latest_price"
   ]
  },
  {
   "cell_type": "code",
   "execution_count": null,
   "metadata": {
    "collapsed": false
   },
   "outputs": [],
   "source": [
    "def get_system_one_entry_signal():\n",
    "    \"\"\"\n",
    "    Get 20 day breakout entry signal.\n",
    "    \n",
    "    Does not factor in outcome of previous entry signal.\n",
    "    \"\"\"\n",
    "    if latest_price > twenty_day_high:\n",
    "        print('System one: Long %s %i@%.2f' % (symbols, trade_size, latest_price))\n",
    "    elif latest_price < twenty_day_low:\n",
    "        print('System one: Short %s %i@%.2f' % (symbols, trade_size, latest_price))\n",
    "    else:\n",
    "        print('System one: No signal')\n",
    "        \n",
    "get_system_one_entry_signal()"
   ]
  },
  {
   "cell_type": "code",
   "execution_count": null,
   "metadata": {
    "collapsed": false
   },
   "outputs": [],
   "source": [
    "def get_system_two_entry_signal():\n",
    "    \"\"\"\n",
    "    Get 55 day breakout entry signal.\n",
    "    \"\"\"\n",
    "    if latest_price > fifty_five_day_high:\n",
    "        print('System two: Long %s %i@%.2f' % (symbols, trade_size, latest_price))\n",
    "    elif latest_price < fifty_five_day_low:\n",
    "        print('System two: Short %s %i@%.2f' % (symbols, trade_size, latest_price))\n",
    "    else:\n",
    "        print('System two: No signal')\n",
    "        \n",
    "get_system_two_entry_signal()"
   ]
  },
  {
   "cell_type": "code",
   "execution_count": null,
   "metadata": {
    "collapsed": false
   },
   "outputs": [],
   "source": [
    "latest_price = 240\n",
    "\n",
    "get_system_one_entry_signal()"
   ]
  },
  {
   "cell_type": "code",
   "execution_count": null,
   "metadata": {
    "collapsed": false
   },
   "outputs": [],
   "source": [
    "latest_price = 232\n",
    "\n",
    "get_system_one_entry_signal()"
   ]
  },
  {
   "cell_type": "code",
   "execution_count": null,
   "metadata": {
    "collapsed": false
   },
   "outputs": [],
   "source": [
    "latest_price = 240\n",
    "\n",
    "get_system_two_entry_signal()"
   ]
  },
  {
   "cell_type": "code",
   "execution_count": null,
   "metadata": {
    "collapsed": false
   },
   "outputs": [],
   "source": [
    "latest_price = 231\n",
    "\n",
    "get_system_two_entry_signal()"
   ]
  },
  {
   "cell_type": "code",
   "execution_count": null,
   "metadata": {
    "collapsed": false
   },
   "outputs": [],
   "source": [
    "def add_unit():\n",
    "    \"\"\"\n",
    "    Add to position if price exceeds threshold.\n",
    "    \"\"\"\n",
    "    previous_fill_price = 240\n",
    "\n",
    "    long_threshold = previous_fill_price + volatility / 2\n",
    "    short_threshold = previous_fill_price - volatility / 2\n",
    "\n",
    "    if latest_price > long_threshold:\n",
    "        print('Long %s %i@%.2f' % (symbols, trade_size, latest_price))\n",
    "    elif latest_price < short_threshold:\n",
    "        print('Short %s %i@%.2f' % (symbols, trade_size, latest_price))\n",
    "    else:\n",
    "        print('No signal')"
   ]
  },
  {
   "cell_type": "code",
   "execution_count": null,
   "metadata": {
    "collapsed": false
   },
   "outputs": [],
   "source": [
    "latest_price = 241\n",
    "\n",
    "add_unit()"
   ]
  },
  {
   "cell_type": "code",
   "execution_count": null,
   "metadata": {
    "collapsed": false
   },
   "outputs": [],
   "source": [
    "latest_price = 239\n",
    "\n",
    "add_unit()"
   ]
  },
  {
   "cell_type": "code",
   "execution_count": null,
   "metadata": {
    "collapsed": false
   },
   "outputs": [],
   "source": [
    "latest_price = 239.5\n",
    "\n",
    "add_unit()"
   ]
  },
  {
   "cell_type": "code",
   "execution_count": null,
   "metadata": {
    "collapsed": false
   },
   "outputs": [],
   "source": [
    "STOP_MULTIPLIER = 2\n",
    "\n",
    "entry_price = 240\n",
    "stop = entry_price - volatility * STOP_MULTIPLIER\n",
    "\n",
    "stop"
   ]
  },
  {
   "cell_type": "code",
   "execution_count": null,
   "metadata": {
    "collapsed": false
   },
   "outputs": [],
   "source": [
    "# Re-enter if price hits entry price after stopped out\n",
    "STOP_MULTIPLIER = 0.5\n",
    "\n",
    "entry_price = 240\n",
    "stop = entry_price - volatility * STOP_MULTIPLIER\n",
    "\n",
    "stop"
   ]
  },
  {
   "cell_type": "code",
   "execution_count": null,
   "metadata": {
    "collapsed": true
   },
   "outputs": [],
   "source": [
    "TEN_DAY_EXIT_BREAKOUT = 10\n",
    "TWENTY_DAY_EXIT_BREAKOUT = 20"
   ]
  },
  {
   "cell_type": "code",
   "execution_count": null,
   "metadata": {
    "collapsed": false
   },
   "outputs": [],
   "source": [
    "ten_day_high = prices.high[-TEN_DAY_EXIT_BREAKOUT:].max()\n",
    "\n",
    "ten_day_high"
   ]
  },
  {
   "cell_type": "code",
   "execution_count": null,
   "metadata": {
    "collapsed": false
   },
   "outputs": [],
   "source": [
    "ten_day_low = prices.low[-TEN_DAY_EXIT_BREAKOUT:].min()\n",
    "\n",
    "ten_day_low"
   ]
  },
  {
   "cell_type": "code",
   "execution_count": null,
   "metadata": {
    "collapsed": false
   },
   "outputs": [],
   "source": [
    "twenty_day_high = prices.high[-TWENTY_DAY_EXIT_BREAKOUT:].max()\n",
    "\n",
    "twenty_day_high"
   ]
  },
  {
   "cell_type": "code",
   "execution_count": null,
   "metadata": {
    "collapsed": false
   },
   "outputs": [],
   "source": [
    "twenty_day_low = prices.low[-TWENTY_DAY_EXIT_BREAKOUT:].min()\n",
    "\n",
    "twenty_day_low"
   ]
  },
  {
   "cell_type": "code",
   "execution_count": null,
   "metadata": {
    "collapsed": true
   },
   "outputs": [],
   "source": [
    "def get_system_one_exit_signal():\n",
    "    if position_type == 'long' and latest_price < ten_day_low \\\n",
    "            or position_type == 'short' and latest_price > ten_day_high:\n",
    "        print('System one: Close %s' % symbols)\n",
    "    else:\n",
    "        print('System one: No signal')"
   ]
  },
  {
   "cell_type": "code",
   "execution_count": null,
   "metadata": {
    "collapsed": true
   },
   "outputs": [],
   "source": [
    "def get_system_two_exit_signal():\n",
    "    if position_type == 'long' and latest_price < twenty_day_low \\\n",
    "            or position_type == 'short' and latest_price > twenty_day_high:\n",
    "        print('System two: Close %s' % symbols)\n",
    "    else:\n",
    "        print('System two: No signal')"
   ]
  },
  {
   "cell_type": "code",
   "execution_count": null,
   "metadata": {
    "collapsed": false
   },
   "outputs": [],
   "source": [
    "position_type = 'long'\n",
    "latest_price = 236\n",
    "\n",
    "get_system_one_exit_signal()"
   ]
  },
  {
   "cell_type": "code",
   "execution_count": null,
   "metadata": {
    "collapsed": false
   },
   "outputs": [],
   "source": [
    "position_type = 'short'\n",
    "latest_price = 240\n",
    "\n",
    "get_system_one_exit_signal()"
   ]
  },
  {
   "cell_type": "code",
   "execution_count": null,
   "metadata": {
    "collapsed": false
   },
   "outputs": [],
   "source": [
    "position_type = 'long'\n",
    "latest_price = 237\n",
    "\n",
    "get_system_one_exit_signal()"
   ]
  },
  {
   "cell_type": "code",
   "execution_count": null,
   "metadata": {
    "collapsed": false
   },
   "outputs": [],
   "source": [
    "position_type = 'long'\n",
    "latest_price = 232\n",
    "\n",
    "get_system_two_exit_signal()"
   ]
  },
  {
   "cell_type": "code",
   "execution_count": null,
   "metadata": {
    "collapsed": false
   },
   "outputs": [],
   "source": [
    "position_type = 'short'\n",
    "latest_price = 240\n",
    "\n",
    "get_system_two_exit_signal()"
   ]
  },
  {
   "cell_type": "code",
   "execution_count": null,
   "metadata": {
    "collapsed": false
   },
   "outputs": [],
   "source": [
    "position_type = 'long'\n",
    "latest_price = 233\n",
    "\n",
    "get_system_two_exit_signal()"
   ]
  }
 ],
 "metadata": {
  "kernelspec": {
   "display_name": "Python 2",
   "language": "python",
   "name": "python2"
  }
 },
 "nbformat": 4,
 "nbformat_minor": 2
}