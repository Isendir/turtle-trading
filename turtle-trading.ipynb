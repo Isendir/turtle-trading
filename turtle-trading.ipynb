{
 "cells": [
  {
   "cell_type": "markdown",
   "metadata": {},
   "source": [
    "# Market"
   ]
  },
  {
   "cell_type": "code",
   "execution_count": 47,
   "metadata": {
    "collapsed": false
   },
   "outputs": [],
   "source": [
    "symbols = 'SPY'\n",
    "# symbols = ['SPY', 'GLD', 'SLV']"
   ]
  },
  {
   "cell_type": "code",
   "execution_count": 53,
   "metadata": {
    "collapsed": false
   },
   "outputs": [
    {
     "data": {
      "text/plain": [
       "<zipline.pipeline.pipeline.Pipeline at 0x7f298ec46200>"
      ]
     },
     "execution_count": 53,
     "metadata": {},
     "output_type": "execute_result"
    }
   ],
   "source": [
    "from quantopian.pipeline import Pipeline\n",
    "\n",
    "def make_pipeline():\n",
    "    return Pipeline()\n",
    "\n",
    "pipeline = make_pipeline()\n",
    "\n",
    "pipeline"
   ]
  },
  {
   "cell_type": "code",
   "execution_count": 70,
   "metadata": {
    "collapsed": false
   },
   "outputs": [
    {
     "data": {
      "text/html": [
       "<div>\n",
       "<table border=\"1\" class=\"dataframe\">\n",
       "  <thead>\n",
       "    <tr style=\"text-align: right;\">\n",
       "      <th></th>\n",
       "      <th></th>\n",
       "    </tr>\n",
       "  </thead>\n",
       "  <tbody>\n",
       "    <tr>\n",
       "      <th rowspan=\"5\" valign=\"top\">2017-05-08 00:00:00+00:00</th>\n",
       "      <th>Equity(2 [ARNC])</th>\n",
       "    </tr>\n",
       "    <tr>\n",
       "      <th>Equity(21 [AAME])</th>\n",
       "    </tr>\n",
       "    <tr>\n",
       "      <th>Equity(24 [AAPL])</th>\n",
       "    </tr>\n",
       "    <tr>\n",
       "      <th>Equity(25 [ARNC_PR])</th>\n",
       "    </tr>\n",
       "    <tr>\n",
       "      <th>Equity(31 [ABAX])</th>\n",
       "    </tr>\n",
       "  </tbody>\n",
       "</table>\n",
       "</div>"
      ],
      "text/plain": [
       "Empty DataFrame\n",
       "Columns: []\n",
       "Index: [(2017-05-08 00:00:00+00:00, Equity(2 [ARNC])), (2017-05-08 00:00:00+00:00, Equity(21 [AAME])), (2017-05-08 00:00:00+00:00, Equity(24 [AAPL])), (2017-05-08 00:00:00+00:00, Equity(25 [ARNC_PR])), (2017-05-08 00:00:00+00:00, Equity(31 [ABAX]))]"
      ]
     },
     "execution_count": 70,
     "metadata": {},
     "output_type": "execute_result"
    }
   ],
   "source": [
    "from quantopian.research import run_pipeline\n",
    "\n",
    "start_date = '2017-05-08'\n",
    "end_date = start_date\n",
    "\n",
    "universe = run_pipeline(pipeline, start_date, end_date)\n",
    "\n",
    "universe.head()"
   ]
  },
  {
   "cell_type": "markdown",
   "metadata": {
    "collapsed": true
   },
   "source": [
    "# Position size"
   ]
  },
  {
   "cell_type": "code",
   "execution_count": 2,
   "metadata": {
    "collapsed": false
   },
   "outputs": [
    {
     "data": {
      "text/html": [
       "<div>\n",
       "<table border=\"1\" class=\"dataframe\">\n",
       "  <thead>\n",
       "    <tr style=\"text-align: right;\">\n",
       "      <th></th>\n",
       "      <th>price</th>\n",
       "      <th>high</th>\n",
       "      <th>low</th>\n",
       "      <th>close_price</th>\n",
       "    </tr>\n",
       "  </thead>\n",
       "  <tbody>\n",
       "    <tr>\n",
       "      <th>2017-02-16 00:00:00+00:00</th>\n",
       "      <td>233.723</td>\n",
       "      <td>234.136</td>\n",
       "      <td>232.837</td>\n",
       "      <td>233.723</td>\n",
       "    </tr>\n",
       "    <tr>\n",
       "      <th>2017-02-17 00:00:00+00:00</th>\n",
       "      <td>234.042</td>\n",
       "      <td>234.052</td>\n",
       "      <td>232.917</td>\n",
       "      <td>234.042</td>\n",
       "    </tr>\n",
       "    <tr>\n",
       "      <th>2017-02-21 00:00:00+00:00</th>\n",
       "      <td>235.426</td>\n",
       "      <td>235.665</td>\n",
       "      <td>234.490</td>\n",
       "      <td>235.426</td>\n",
       "    </tr>\n",
       "    <tr>\n",
       "      <th>2017-02-22 00:00:00+00:00</th>\n",
       "      <td>235.267</td>\n",
       "      <td>235.515</td>\n",
       "      <td>234.809</td>\n",
       "      <td>235.267</td>\n",
       "    </tr>\n",
       "    <tr>\n",
       "      <th>2017-02-23 00:00:00+00:00</th>\n",
       "      <td>235.416</td>\n",
       "      <td>235.874</td>\n",
       "      <td>234.540</td>\n",
       "      <td>235.416</td>\n",
       "    </tr>\n",
       "  </tbody>\n",
       "</table>\n",
       "</div>"
      ],
      "text/plain": [
       "                             price     high      low  close_price\n",
       "2017-02-16 00:00:00+00:00  233.723  234.136  232.837      233.723\n",
       "2017-02-17 00:00:00+00:00  234.042  234.052  232.917      234.042\n",
       "2017-02-21 00:00:00+00:00  235.426  235.665  234.490      235.426\n",
       "2017-02-22 00:00:00+00:00  235.267  235.515  234.809      235.267\n",
       "2017-02-23 00:00:00+00:00  235.416  235.874  234.540      235.416"
      ]
     },
     "execution_count": 2,
     "metadata": {},
     "output_type": "execute_result"
    }
   ],
   "source": [
    "from datetime import datetime, timedelta\n",
    "\n",
    "from pandas.tseries.offsets import BDay\n",
    "from quantopian.research import get_pricing\n",
    "\n",
    "PRICE_SLIDING_WINDOW = 57\n",
    "\n",
    "end_date = datetime.now()\n",
    "start_date = end_date - BDay(PRICE_SLIDING_WINDOW)\n",
    "\n",
    "prices = get_pricing(\n",
    "    symbols,\n",
    "    start_date=start_date,\n",
    "    end_date=end_date,\n",
    "    fields=[\n",
    "        'price',\n",
    "        'high',\n",
    "        'low',\n",
    "        'close_price'\n",
    "    ]\n",
    ")\n",
    "\n",
    "prices = prices.dropna()\n",
    "\n",
    "prices.head()"
   ]
  },
  {
   "cell_type": "code",
   "execution_count": 3,
   "metadata": {
    "collapsed": false
   },
   "outputs": [
    {
     "data": {
      "text/plain": [
       "1.4894999999999954"
      ]
     },
     "execution_count": 3,
     "metadata": {},
     "output_type": "execute_result"
    }
   ],
   "source": [
    "from talib import ATR\n",
    "\n",
    "AVERAGE_TRUE_RANGE_SLIDING_WINDOW = 21\n",
    "MOVING_AVERAGE = 20\n",
    "\n",
    "volatility = ATR(\n",
    "    prices.high[-AVERAGE_TRUE_RANGE_SLIDING_WINDOW:],\n",
    "    prices.low[-AVERAGE_TRUE_RANGE_SLIDING_WINDOW:],\n",
    "    prices.close_price[-AVERAGE_TRUE_RANGE_SLIDING_WINDOW:],\n",
    "    timeperiod=MOVING_AVERAGE\n",
    ")[-1]\n",
    "\n",
    "volatility"
   ]
  },
  {
   "cell_type": "code",
   "execution_count": 4,
   "metadata": {
    "collapsed": false
   },
   "outputs": [
    {
     "data": {
      "text/plain": [
       "1.4894999999999954"
      ]
     },
     "execution_count": 4,
     "metadata": {},
     "output_type": "execute_result"
    }
   ],
   "source": [
    "DOLLARS_PER_POINT = 1\n",
    "\n",
    "dollar_volatility = volatility * DOLLARS_PER_POINT\n",
    "\n",
    "dollar_volatility"
   ]
  },
  {
   "cell_type": "code",
   "execution_count": 5,
   "metadata": {
    "collapsed": false
   },
   "outputs": [
    {
     "data": {
      "text/plain": [
       "5370"
      ]
     },
     "execution_count": 5,
     "metadata": {},
     "output_type": "execute_result"
    }
   ],
   "source": [
    "CAPITAL_PERCENTAGE_PER_TRADE = 0.01\n",
    "START_CAPITAL = 1000000\n",
    "CURRENT_CAPITAL = 900000\n",
    "CAPITAL_MULTIPLIER = 2\n",
    "\n",
    "profit = CURRENT_CAPITAL - START_CAPITAL\n",
    "available_capital = START_CAPITAL\n",
    "\n",
    "if profit < 0:\n",
    "    available_capital = START_CAPITAL + profit * CAPITAL_MULTIPLIER\n",
    "\n",
    "capital_per_trade = available_capital * CAPITAL_PERCENTAGE_PER_TRADE\n",
    "trade_size = capital_per_trade / dollar_volatility\n",
    "\n",
    "int(trade_size)"
   ]
  },
  {
   "cell_type": "markdown",
   "metadata": {},
   "source": [
    "# Entry"
   ]
  },
  {
   "cell_type": "code",
   "execution_count": 6,
   "metadata": {
    "collapsed": false
   },
   "outputs": [],
   "source": [
    "TWENTY_DAY_BREAKOUT = 20\n",
    "FIFTY_FIVE_DAY_BREAKOUT = 55"
   ]
  },
  {
   "cell_type": "code",
   "execution_count": 7,
   "metadata": {
    "collapsed": false
   },
   "outputs": [
    {
     "data": {
      "text/plain": [
       "239.72"
      ]
     },
     "execution_count": 7,
     "metadata": {},
     "output_type": "execute_result"
    }
   ],
   "source": [
    "twenty_day_high = prices.high[-TWENTY_DAY_BREAKOUT:].max()\n",
    "\n",
    "twenty_day_high"
   ]
  },
  {
   "cell_type": "code",
   "execution_count": 8,
   "metadata": {
    "collapsed": false
   },
   "outputs": [
    {
     "data": {
      "text/plain": [
       "239.72"
      ]
     },
     "execution_count": 8,
     "metadata": {},
     "output_type": "execute_result"
    }
   ],
   "source": [
    "fifty_five_day_high = prices.high[-FIFTY_FIVE_DAY_BREAKOUT:].max()\n",
    "\n",
    "fifty_five_day_high"
   ]
  },
  {
   "cell_type": "code",
   "execution_count": 9,
   "metadata": {
    "collapsed": false
   },
   "outputs": [
    {
     "data": {
      "text/plain": [
       "232.55000000000001"
      ]
     },
     "execution_count": 9,
     "metadata": {},
     "output_type": "execute_result"
    }
   ],
   "source": [
    "twenty_day_low = prices.low[-TWENTY_DAY_BREAKOUT:].min()\n",
    "\n",
    "twenty_day_low"
   ]
  },
  {
   "cell_type": "code",
   "execution_count": 10,
   "metadata": {
    "collapsed": false
   },
   "outputs": [
    {
     "data": {
      "text/plain": [
       "231.61000000000001"
      ]
     },
     "execution_count": 10,
     "metadata": {},
     "output_type": "execute_result"
    }
   ],
   "source": [
    "fifty_five_day_low = prices.low[-FIFTY_FIVE_DAY_BREAKOUT:].min()\n",
    "\n",
    "fifty_five_day_low"
   ]
  },
  {
   "cell_type": "code",
   "execution_count": 11,
   "metadata": {
    "collapsed": false
   },
   "outputs": [
    {
     "data": {
      "text/plain": [
       "239.72"
      ]
     },
     "execution_count": 11,
     "metadata": {},
     "output_type": "execute_result"
    }
   ],
   "source": [
    "latest_price = prices.price[-1]\n",
    "\n",
    "latest_price"
   ]
  },
  {
   "cell_type": "code",
   "execution_count": 12,
   "metadata": {
    "collapsed": false
   },
   "outputs": [
    {
     "name": "stdout",
     "output_type": "stream",
     "text": [
      "System one: No signal\n"
     ]
    }
   ],
   "source": [
    "def get_system_one_entry_signal():\n",
    "    \"\"\"\n",
    "    Get 20 day breakout entry signal.\n",
    "    \n",
    "    Does not factor in outcome of previous entry signal.\n",
    "    \"\"\"\n",
    "    if latest_price > twenty_day_high:\n",
    "        print('System one: Long %s %i@%.2f' % (symbols, trade_size, latest_price))\n",
    "    elif latest_price < twenty_day_low:\n",
    "        print('System one: Short %s %i@%.2f' % (symbols, trade_size, latest_price))\n",
    "    else:\n",
    "        print('System one: No signal')\n",
    "        \n",
    "get_system_one_entry_signal()"
   ]
  },
  {
   "cell_type": "code",
   "execution_count": 13,
   "metadata": {
    "collapsed": false
   },
   "outputs": [
    {
     "name": "stdout",
     "output_type": "stream",
     "text": [
      "System two: No signal\n"
     ]
    }
   ],
   "source": [
    "def get_system_two_entry_signal():\n",
    "    \"\"\"\n",
    "    Get 55 day breakout entry signal.\n",
    "    \"\"\"\n",
    "    if latest_price > fifty_five_day_high:\n",
    "        print('System two: Long %s %i@%.2f' % (symbols, trade_size, latest_price))\n",
    "    elif latest_price < fifty_five_day_low:\n",
    "        print('System two: Short %s %i@%.2f' % (symbols, trade_size, latest_price))\n",
    "    else:\n",
    "        print('System two: No signal')\n",
    "        \n",
    "get_system_two_entry_signal()"
   ]
  },
  {
   "cell_type": "code",
   "execution_count": 14,
   "metadata": {
    "collapsed": false
   },
   "outputs": [
    {
     "name": "stdout",
     "output_type": "stream",
     "text": [
      "System one: Long SPY 5370@240.00\n"
     ]
    }
   ],
   "source": [
    "latest_price = 240\n",
    "\n",
    "get_system_one_entry_signal()"
   ]
  },
  {
   "cell_type": "code",
   "execution_count": 15,
   "metadata": {
    "collapsed": false
   },
   "outputs": [
    {
     "name": "stdout",
     "output_type": "stream",
     "text": [
      "System one: Short SPY 5370@232.00\n"
     ]
    }
   ],
   "source": [
    "latest_price = 232\n",
    "\n",
    "get_system_one_entry_signal()"
   ]
  },
  {
   "cell_type": "code",
   "execution_count": 16,
   "metadata": {
    "collapsed": false
   },
   "outputs": [
    {
     "name": "stdout",
     "output_type": "stream",
     "text": [
      "System two: Long SPY 5370@240.00\n"
     ]
    }
   ],
   "source": [
    "latest_price = 240\n",
    "\n",
    "get_system_two_entry_signal()"
   ]
  },
  {
   "cell_type": "code",
   "execution_count": 17,
   "metadata": {
    "collapsed": false
   },
   "outputs": [
    {
     "name": "stdout",
     "output_type": "stream",
     "text": [
      "System two: Short SPY 5370@231.00\n"
     ]
    }
   ],
   "source": [
    "latest_price = 231\n",
    "\n",
    "get_system_two_entry_signal()"
   ]
  },
  {
   "cell_type": "code",
   "execution_count": 18,
   "metadata": {
    "collapsed": false
   },
   "outputs": [],
   "source": [
    "def add_unit():\n",
    "    \"\"\"\n",
    "    Add to position if price exceeds threshold.\n",
    "    \"\"\"\n",
    "    previous_fill_price = 240\n",
    "\n",
    "    long_threshold = previous_fill_price + volatility / 2\n",
    "    short_threshold = previous_fill_price - volatility / 2\n",
    "\n",
    "    if latest_price > long_threshold:\n",
    "        print('Long %s %i@%.2f' % (symbols, trade_size, latest_price))\n",
    "    elif latest_price < short_threshold:\n",
    "        print('Short %s %i@%.2f' % (symbols, trade_size, latest_price))\n",
    "    else:\n",
    "        print('No signal')"
   ]
  },
  {
   "cell_type": "code",
   "execution_count": 19,
   "metadata": {
    "collapsed": false
   },
   "outputs": [
    {
     "name": "stdout",
     "output_type": "stream",
     "text": [
      "Long SPY 5370@241.00\n"
     ]
    }
   ],
   "source": [
    "latest_price = 241\n",
    "\n",
    "add_unit()"
   ]
  },
  {
   "cell_type": "code",
   "execution_count": 20,
   "metadata": {
    "collapsed": false
   },
   "outputs": [
    {
     "name": "stdout",
     "output_type": "stream",
     "text": [
      "Short SPY 5370@239.00\n"
     ]
    }
   ],
   "source": [
    "latest_price = 239\n",
    "\n",
    "add_unit()"
   ]
  },
  {
   "cell_type": "code",
   "execution_count": 21,
   "metadata": {
    "collapsed": false
   },
   "outputs": [
    {
     "name": "stdout",
     "output_type": "stream",
     "text": [
      "No signal\n"
     ]
    }
   ],
   "source": [
    "latest_price = 239.5\n",
    "\n",
    "add_unit()"
   ]
  },
  {
   "cell_type": "markdown",
   "metadata": {},
   "source": [
    "# Stop"
   ]
  },
  {
   "cell_type": "code",
   "execution_count": 22,
   "metadata": {
    "collapsed": false
   },
   "outputs": [
    {
     "data": {
      "text/plain": [
       "237.02100000000002"
      ]
     },
     "execution_count": 22,
     "metadata": {},
     "output_type": "execute_result"
    }
   ],
   "source": [
    "STOP_MULTIPLIER = 2\n",
    "\n",
    "entry_price = 240\n",
    "stop = entry_price - volatility * STOP_MULTIPLIER\n",
    "\n",
    "stop"
   ]
  },
  {
   "cell_type": "code",
   "execution_count": 23,
   "metadata": {
    "collapsed": false
   },
   "outputs": [
    {
     "data": {
      "text/plain": [
       "239.25524999999999"
      ]
     },
     "execution_count": 23,
     "metadata": {},
     "output_type": "execute_result"
    }
   ],
   "source": [
    "# Re-enter if price hits entry price after stopped out\n",
    "STOP_MULTIPLIER = 0.5\n",
    "\n",
    "entry_price = 240\n",
    "stop = entry_price - volatility * STOP_MULTIPLIER\n",
    "\n",
    "stop"
   ]
  },
  {
   "cell_type": "markdown",
   "metadata": {},
   "source": [
    "# Exit"
   ]
  },
  {
   "cell_type": "code",
   "execution_count": 24,
   "metadata": {
    "collapsed": true
   },
   "outputs": [],
   "source": [
    "TEN_DAY_EXIT_BREAKOUT = 10\n",
    "TWENTY_DAY_EXIT_BREAKOUT = 20"
   ]
  },
  {
   "cell_type": "code",
   "execution_count": 25,
   "metadata": {
    "collapsed": false
   },
   "outputs": [
    {
     "data": {
      "text/plain": [
       "239.72"
      ]
     },
     "execution_count": 25,
     "metadata": {},
     "output_type": "execute_result"
    }
   ],
   "source": [
    "ten_day_high = prices.high[-TEN_DAY_EXIT_BREAKOUT:].max()\n",
    "\n",
    "ten_day_high"
   ]
  },
  {
   "cell_type": "code",
   "execution_count": 26,
   "metadata": {
    "collapsed": false
   },
   "outputs": [
    {
     "data": {
      "text/plain": [
       "236.61000000000001"
      ]
     },
     "execution_count": 26,
     "metadata": {},
     "output_type": "execute_result"
    }
   ],
   "source": [
    "ten_day_low = prices.low[-TEN_DAY_EXIT_BREAKOUT:].min()\n",
    "\n",
    "ten_day_low"
   ]
  },
  {
   "cell_type": "code",
   "execution_count": 27,
   "metadata": {
    "collapsed": false
   },
   "outputs": [
    {
     "data": {
      "text/plain": [
       "239.72"
      ]
     },
     "execution_count": 27,
     "metadata": {},
     "output_type": "execute_result"
    }
   ],
   "source": [
    "twenty_day_high = prices.high[-TWENTY_DAY_EXIT_BREAKOUT:].max()\n",
    "\n",
    "twenty_day_high"
   ]
  },
  {
   "cell_type": "code",
   "execution_count": 28,
   "metadata": {
    "collapsed": false
   },
   "outputs": [
    {
     "data": {
      "text/plain": [
       "232.55000000000001"
      ]
     },
     "execution_count": 28,
     "metadata": {},
     "output_type": "execute_result"
    }
   ],
   "source": [
    "twenty_day_low = prices.low[-TWENTY_DAY_EXIT_BREAKOUT:].min()\n",
    "\n",
    "twenty_day_low"
   ]
  },
  {
   "cell_type": "code",
   "execution_count": 35,
   "metadata": {
    "collapsed": true
   },
   "outputs": [],
   "source": [
    "def get_system_one_exit_signal():\n",
    "    if position_type == 'long' and latest_price < ten_day_low \\\n",
    "            or position_type == 'short' and latest_price > ten_day_high:\n",
    "        print('System one: Close %s' % symbols)\n",
    "    else:\n",
    "        print('System one: No signal')"
   ]
  },
  {
   "cell_type": "code",
   "execution_count": 36,
   "metadata": {
    "collapsed": true
   },
   "outputs": [],
   "source": [
    "def get_system_two_exit_signal():\n",
    "    if position_type == 'long' and latest_price < twenty_day_low \\\n",
    "            or position_type == 'short' and latest_price > twenty_day_high:\n",
    "        print('System two: Close %s' % symbols)\n",
    "    else:\n",
    "        print('System two: No signal')"
   ]
  },
  {
   "cell_type": "code",
   "execution_count": 37,
   "metadata": {
    "collapsed": false
   },
   "outputs": [
    {
     "name": "stdout",
     "output_type": "stream",
     "text": [
      "System one: Close SPY\n"
     ]
    }
   ],
   "source": [
    "position_type = 'long'\n",
    "latest_price = 236\n",
    "\n",
    "get_system_one_exit_signal()"
   ]
  },
  {
   "cell_type": "code",
   "execution_count": 39,
   "metadata": {
    "collapsed": false
   },
   "outputs": [
    {
     "name": "stdout",
     "output_type": "stream",
     "text": [
      "System one: Close SPY\n"
     ]
    }
   ],
   "source": [
    "position_type = 'short'\n",
    "latest_price = 240\n",
    "\n",
    "get_system_one_exit_signal()"
   ]
  },
  {
   "cell_type": "code",
   "execution_count": 42,
   "metadata": {
    "collapsed": false
   },
   "outputs": [
    {
     "name": "stdout",
     "output_type": "stream",
     "text": [
      "System one: No signal\n"
     ]
    }
   ],
   "source": [
    "position_type = 'long'\n",
    "latest_price = 237\n",
    "\n",
    "get_system_one_exit_signal()"
   ]
  },
  {
   "cell_type": "code",
   "execution_count": 40,
   "metadata": {
    "collapsed": false
   },
   "outputs": [
    {
     "name": "stdout",
     "output_type": "stream",
     "text": [
      "System two: Close SPY\n"
     ]
    }
   ],
   "source": [
    "position_type = 'long'\n",
    "latest_price = 232\n",
    "\n",
    "get_system_two_exit_signal()"
   ]
  },
  {
   "cell_type": "code",
   "execution_count": 43,
   "metadata": {
    "collapsed": false
   },
   "outputs": [
    {
     "name": "stdout",
     "output_type": "stream",
     "text": [
      "System two: Close SPY\n"
     ]
    }
   ],
   "source": [
    "position_type = 'short'\n",
    "latest_price = 240\n",
    "\n",
    "get_system_two_exit_signal()"
   ]
  },
  {
   "cell_type": "code",
   "execution_count": 45,
   "metadata": {
    "collapsed": false
   },
   "outputs": [
    {
     "name": "stdout",
     "output_type": "stream",
     "text": [
      "System two: No signal\n"
     ]
    }
   ],
   "source": [
    "position_type = 'long'\n",
    "latest_price = 233\n",
    "\n",
    "get_system_two_exit_signal()"
   ]
  },
  {
   "cell_type": "code",
   "execution_count": null,
   "metadata": {
    "collapsed": true
   },
   "outputs": [],
   "source": []
  }
 ],
 "metadata": {
  "kernelspec": {
   "display_name": "Python 2",
   "language": "python",
   "name": "python2"
  },
  "language_info": {
   "codemirror_mode": {
    "name": "ipython",
    "version": 2
   },
   "file_extension": ".py",
   "mimetype": "text/x-python",
   "name": "python",
   "nbconvert_exporter": "python",
   "pygments_lexer": "ipython2",
   "version": "2.7.12"
  }
 },
 "nbformat": 4,
 "nbformat_minor": 2
}