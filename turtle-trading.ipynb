{
 "cells": [
  {
   "cell_type": "markdown",
   "metadata": {},
   "source": [
    "# Market"
   ]
  },
  {
   "cell_type": "code",
   "execution_count": 15,
   "metadata": {
    "collapsed": false
   },
   "outputs": [],
   "source": [
    "symbols = 'SPY'\n",
    "# symbols = ['SPY', 'GLD', 'SLV']"
   ]
  },
  {
   "cell_type": "markdown",
   "metadata": {
    "collapsed": true
   },
   "source": [
    "# Position size"
   ]
  },
  {
   "cell_type": "code",
   "execution_count": 16,
   "metadata": {
    "collapsed": false
   },
   "outputs": [
    {
     "data": {
      "text/html": [
       "<div>\n",
       "<table border=\"1\" class=\"dataframe\">\n",
       "  <thead>\n",
       "    <tr style=\"text-align: right;\">\n",
       "      <th></th>\n",
       "      <th>price</th>\n",
       "      <th>high</th>\n",
       "      <th>low</th>\n",
       "      <th>close_price</th>\n",
       "    </tr>\n",
       "  </thead>\n",
       "  <tbody>\n",
       "    <tr>\n",
       "      <th>2017-02-16 00:00:00+00:00</th>\n",
       "      <td>233.723</td>\n",
       "      <td>234.136</td>\n",
       "      <td>232.837</td>\n",
       "      <td>233.723</td>\n",
       "    </tr>\n",
       "    <tr>\n",
       "      <th>2017-02-17 00:00:00+00:00</th>\n",
       "      <td>234.042</td>\n",
       "      <td>234.052</td>\n",
       "      <td>232.917</td>\n",
       "      <td>234.042</td>\n",
       "    </tr>\n",
       "    <tr>\n",
       "      <th>2017-02-21 00:00:00+00:00</th>\n",
       "      <td>235.426</td>\n",
       "      <td>235.665</td>\n",
       "      <td>234.490</td>\n",
       "      <td>235.426</td>\n",
       "    </tr>\n",
       "    <tr>\n",
       "      <th>2017-02-22 00:00:00+00:00</th>\n",
       "      <td>235.267</td>\n",
       "      <td>235.515</td>\n",
       "      <td>234.809</td>\n",
       "      <td>235.267</td>\n",
       "    </tr>\n",
       "    <tr>\n",
       "      <th>2017-02-23 00:00:00+00:00</th>\n",
       "      <td>235.416</td>\n",
       "      <td>235.874</td>\n",
       "      <td>234.540</td>\n",
       "      <td>235.416</td>\n",
       "    </tr>\n",
       "  </tbody>\n",
       "</table>\n",
       "</div>"
      ],
      "text/plain": [
       "                             price     high      low  close_price\n",
       "2017-02-16 00:00:00+00:00  233.723  234.136  232.837      233.723\n",
       "2017-02-17 00:00:00+00:00  234.042  234.052  232.917      234.042\n",
       "2017-02-21 00:00:00+00:00  235.426  235.665  234.490      235.426\n",
       "2017-02-22 00:00:00+00:00  235.267  235.515  234.809      235.267\n",
       "2017-02-23 00:00:00+00:00  235.416  235.874  234.540      235.416"
      ]
     },
     "execution_count": 16,
     "metadata": {},
     "output_type": "execute_result"
    }
   ],
   "source": [
    "from datetime import datetime, timedelta\n",
    "\n",
    "from pandas.tseries.offsets import BDay\n",
    "from quantopian.research import get_pricing\n",
    "\n",
    "PRICE_SLIDING_WINDOW = 57\n",
    "\n",
    "end_date = datetime.now()\n",
    "start_date = end_date - BDay(PRICE_SLIDING_WINDOW)\n",
    "\n",
    "prices = get_pricing(\n",
    "    symbols,\n",
    "    start_date=start_date,\n",
    "    end_date=end_date,\n",
    "    fields=[\n",
    "        'price',\n",
    "        'high',\n",
    "        'low',\n",
    "        'close_price'\n",
    "    ]\n",
    ")\n",
    "\n",
    "prices = prices.dropna()\n",
    "\n",
    "prices.head()"
   ]
  },
  {
   "cell_type": "code",
   "execution_count": 17,
   "metadata": {
    "collapsed": false
   },
   "outputs": [
    {
     "data": {
      "text/plain": [
       "1.4894999999999954"
      ]
     },
     "execution_count": 17,
     "metadata": {},
     "output_type": "execute_result"
    }
   ],
   "source": [
    "from talib import ATR\n",
    "\n",
    "AVERAGE_TRUE_RANGE_SLIDING_WINDOW = 21\n",
    "MOVING_AVERAGE = 20\n",
    "\n",
    "volatility = ATR(\n",
    "    prices.high[-AVERAGE_TRUE_RANGE_SLIDING_WINDOW:],\n",
    "    prices.low[-AVERAGE_TRUE_RANGE_SLIDING_WINDOW:],\n",
    "    prices.close_price[-AVERAGE_TRUE_RANGE_SLIDING_WINDOW:],\n",
    "    timeperiod=MOVING_AVERAGE\n",
    ")[-1]\n",
    "\n",
    "volatility"
   ]
  },
  {
   "cell_type": "code",
   "execution_count": 18,
   "metadata": {
    "collapsed": false
   },
   "outputs": [
    {
     "data": {
      "text/plain": [
       "1.4894999999999954"
      ]
     },
     "execution_count": 18,
     "metadata": {},
     "output_type": "execute_result"
    }
   ],
   "source": [
    "DOLLARS_PER_POINT = 1\n",
    "\n",
    "dollar_volatility = volatility * DOLLARS_PER_POINT\n",
    "\n",
    "dollar_volatility"
   ]
  },
  {
   "cell_type": "code",
   "execution_count": 19,
   "metadata": {
    "collapsed": false
   },
   "outputs": [
    {
     "data": {
      "text/plain": [
       "5370"
      ]
     },
     "execution_count": 19,
     "metadata": {},
     "output_type": "execute_result"
    }
   ],
   "source": [
    "CAPITAL_PERCENTAGE_PER_TRADE = 0.01\n",
    "START_CAPITAL = 1000000\n",
    "CURRENT_CAPITAL = 900000\n",
    "CAPITAL_MULTIPLIER = 2\n",
    "\n",
    "profit = CURRENT_CAPITAL - START_CAPITAL\n",
    "available_capital = START_CAPITAL\n",
    "\n",
    "if profit < 0:\n",
    "    available_capital = START_CAPITAL + profit * CAPITAL_MULTIPLIER\n",
    "\n",
    "capital_per_trade = available_capital * CAPITAL_PERCENTAGE_PER_TRADE\n",
    "trade_size = capital_per_trade / dollar_volatility\n",
    "\n",
    "int(trade_size)"
   ]
  },
  {
   "cell_type": "markdown",
   "metadata": {},
   "source": [
    "# Entry"
   ]
  },
  {
   "cell_type": "code",
   "execution_count": 20,
   "metadata": {
    "collapsed": false
   },
   "outputs": [],
   "source": [
    "TWENTY_DAY_BREAKOUT = 20\n",
    "FIFTY_FIVE_DAY_BREAKOUT = 55"
   ]
  },
  {
   "cell_type": "code",
   "execution_count": null,
   "metadata": {
    "collapsed": true
   },
   "outputs": [],
   "source": []
  }
 ],
 "metadata": {
  "kernelspec": {
   "display_name": "Python 2",
   "language": "python",
   "name": "python2"
  },
  "language_info": {
   "codemirror_mode": {
    "name": "ipython",
    "version": 2
   },
   "file_extension": ".py",
   "mimetype": "text/x-python",
   "name": "python",
   "nbconvert_exporter": "python",
   "pygments_lexer": "ipython2",
   "version": "2.7.12"
  }
 },
 "nbformat": 4,
 "nbformat_minor": 2
}