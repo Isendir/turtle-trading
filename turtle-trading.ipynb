{
 "cells": [
  {
   "cell_type": "markdown",
   "metadata": {},
   "source": [
    "# define-market"
   ]
  },
  {
   "cell_type": "code",
   "execution_count": 1,
   "metadata": {
    "collapsed": false
   },
   "outputs": [],
   "source": [
    "symbols = 'SPY'\n",
    "# symbols = ['SPY', 'GLD', 'SLV']"
   ]
  },
  {
   "cell_type": "code",
   "execution_count": 2,
   "metadata": {
    "collapsed": false
   },
   "outputs": [
    {
     "data": {
      "text/plain": [
       "[ContinuousFuture(96074226540281856, root_symbol='US', offset=0, roll_style='volume', adjustment='mul'),\n",
       " ContinuousFuture(95799348633337856, root_symbol='TY', offset=0, roll_style='volume', adjustment='mul'),\n",
       " ContinuousFuture(95492584889188352, root_symbol='SB', offset=0, roll_style='volume', adjustment='mul'),\n",
       " ContinuousFuture(95496982935699456, root_symbol='SF', offset=0, roll_style='volume', adjustment='mul'),\n",
       " ContinuousFuture(90722903447896064, root_symbol='BP', offset=0, roll_style='volume', adjustment='mul'),\n",
       " ContinuousFuture(92984598866231296, root_symbol='JY', offset=0, roll_style='volume', adjustment='mul'),\n",
       " ContinuousFuture(90991184285073408, root_symbol='CD', offset=0, roll_style='volume', adjustment='mul'),\n",
       " ContinuousFuture(95507978051977216, root_symbol='SP', offset=0, roll_style='volume', adjustment='mul'),\n",
       " ContinuousFuture(91554134238494720, root_symbol='ED', offset=0, roll_style='volume', adjustment='mul'),\n",
       " ContinuousFuture(95774059865899008, root_symbol='TB', offset=0, roll_style='volume', adjustment='mul'),\n",
       " ContinuousFuture(92115984680288256, root_symbol='GC', offset=0, roll_style='volume', adjustment='mul'),\n",
       " ContinuousFuture(95514575121743872, root_symbol='SV', offset=0, roll_style='volume', adjustment='mul'),\n",
       " ContinuousFuture(92401857703510016, root_symbol='HG', offset=0, roll_style='volume', adjustment='mul'),\n",
       " ContinuousFuture(90999980378095616, root_symbol='CL', offset=0, roll_style='volume', adjustment='mul'),\n",
       " ContinuousFuture(92410653796532224, root_symbol='HO', offset=0, roll_style='volume', adjustment='mul'),\n",
       " ContinuousFuture(92417250866298880, root_symbol='HU', offset=0, roll_style='volume', adjustment='mul')]"
      ]
     },
     "execution_count": 2,
     "metadata": {},
     "output_type": "execute_result"
    }
   ],
   "source": [
    "from quantopian.research.experimental import continuous_future\n",
    "\n",
    "context = {}\n",
    "context['markets'] = [\n",
    "    continuous_future('US'),\n",
    "    continuous_future('TY'),\n",
    "    continuous_future('SB'),\n",
    "    continuous_future('SF'),\n",
    "    continuous_future('BP'),\n",
    "    continuous_future('JY'),\n",
    "    continuous_future('CD'),\n",
    "    continuous_future('SP'),\n",
    "    continuous_future('ED'),\n",
    "    continuous_future('TB'),\n",
    "    continuous_future('GC'),\n",
    "    continuous_future('SV'),\n",
    "    continuous_future('HG'),\n",
    "    continuous_future('CL'),\n",
    "    continuous_future('HO'),\n",
    "    continuous_future('HU')\n",
    "]\n",
    "\n",
    "context['markets']"
   ]
  },
  {
   "cell_type": "markdown",
   "metadata": {
    "collapsed": true
   },
   "source": [
    "# compute-position-size"
   ]
  },
  {
   "cell_type": "code",
   "execution_count": 3,
   "metadata": {
    "collapsed": false
   },
   "outputs": [
    {
     "data": {
      "text/html": [
       "<div>\n",
       "<table border=\"1\" class=\"dataframe\">\n",
       "  <thead>\n",
       "    <tr style=\"text-align: right;\">\n",
       "      <th></th>\n",
       "      <th>price</th>\n",
       "      <th>high</th>\n",
       "      <th>low</th>\n",
       "      <th>close_price</th>\n",
       "    </tr>\n",
       "  </thead>\n",
       "  <tbody>\n",
       "    <tr>\n",
       "      <th>2017-02-23 00:00:00+00:00</th>\n",
       "      <td>235.416</td>\n",
       "      <td>235.874</td>\n",
       "      <td>234.540</td>\n",
       "      <td>235.416</td>\n",
       "    </tr>\n",
       "    <tr>\n",
       "      <th>2017-02-24 00:00:00+00:00</th>\n",
       "      <td>235.754</td>\n",
       "      <td>235.767</td>\n",
       "      <td>234.390</td>\n",
       "      <td>235.754</td>\n",
       "    </tr>\n",
       "    <tr>\n",
       "      <th>2017-02-27 00:00:00+00:00</th>\n",
       "      <td>236.103</td>\n",
       "      <td>236.282</td>\n",
       "      <td>235.326</td>\n",
       "      <td>236.103</td>\n",
       "    </tr>\n",
       "    <tr>\n",
       "      <th>2017-02-28 00:00:00+00:00</th>\n",
       "      <td>235.476</td>\n",
       "      <td>235.924</td>\n",
       "      <td>234.993</td>\n",
       "      <td>235.476</td>\n",
       "    </tr>\n",
       "    <tr>\n",
       "      <th>2017-03-01 00:00:00+00:00</th>\n",
       "      <td>238.707</td>\n",
       "      <td>239.279</td>\n",
       "      <td>237.338</td>\n",
       "      <td>238.707</td>\n",
       "    </tr>\n",
       "  </tbody>\n",
       "</table>\n",
       "</div>"
      ],
      "text/plain": [
       "                             price     high      low  close_price\n",
       "2017-02-23 00:00:00+00:00  235.416  235.874  234.540      235.416\n",
       "2017-02-24 00:00:00+00:00  235.754  235.767  234.390      235.754\n",
       "2017-02-27 00:00:00+00:00  236.103  236.282  235.326      236.103\n",
       "2017-02-28 00:00:00+00:00  235.476  235.924  234.993      235.476\n",
       "2017-03-01 00:00:00+00:00  238.707  239.279  237.338      238.707"
      ]
     },
     "execution_count": 3,
     "metadata": {},
     "output_type": "execute_result"
    }
   ],
   "source": [
    "from datetime import datetime, timedelta\n",
    "\n",
    "from pandas.tseries.offsets import BDay\n",
    "from quantopian.research import get_pricing\n",
    "\n",
    "PRICE_SLIDING_WINDOW = 57\n",
    "\n",
    "end_date = datetime.now()\n",
    "start_date = end_date - BDay(PRICE_SLIDING_WINDOW)\n",
    "\n",
    "prices = get_pricing(\n",
    "    symbols,\n",
    "    start_date=start_date,\n",
    "    end_date=end_date,\n",
    "    fields=[\n",
    "        'price',\n",
    "        'high',\n",
    "        'low',\n",
    "        'close_price'\n",
    "    ]\n",
    ")\n",
    "\n",
    "prices = prices.dropna()\n",
    "\n",
    "prices.head()"
   ]
  },
  {
   "cell_type": "code",
   "execution_count": 77,
   "metadata": {
    "collapsed": false
   },
   "outputs": [
    {
     "data": {
      "text/plain": [
       "<class 'pandas.core.panel.Panel'>\n",
       "Dimensions: 4 (items) x 25 (major_axis) x 16 (minor_axis)\n",
       "Items axis: price to close_price\n",
       "Major_axis axis: 2017-02-27 00:00:00+00:00 to 2017-03-31 00:00:00+00:00\n",
       "Minor_axis axis: ContinuousFuture(96074226540281856 [US, 0, volume, mul]) to ContinuousFuture(92417250866298880 [HU, 0, volume, mul])"
      ]
     },
     "execution_count": 77,
     "metadata": {},
     "output_type": "execute_result"
    }
   ],
   "source": [
    "from quantopian.research.experimental import history\n",
    "\n",
    "futures_prices = history(\n",
    "    context['markets'],\n",
    "    fields=[\n",
    "        'price',\n",
    "        'high',\n",
    "        'low',\n",
    "        'close_price'\n",
    "    ],\n",
    "    frequency='daily',\n",
    "    start_date='2017-02-27',\n",
    "    end_date='2017-03-31'\n",
    ")\n",
    "\n",
    "futures_prices"
   ]
  },
  {
   "cell_type": "code",
   "execution_count": 78,
   "metadata": {
    "collapsed": false
   },
   "outputs": [
    {
     "data": {
      "text/plain": [
       "<class 'pandas.core.panel.Panel'>\n",
       "Dimensions: 4 (items) x 25 (major_axis) x 14 (minor_axis)\n",
       "Items axis: price to close_price\n",
       "Major_axis axis: 2017-02-27 00:00:00+00:00 to 2017-03-31 00:00:00+00:00\n",
       "Minor_axis axis: ContinuousFuture(96074226540281856 [US, 0, volume, mul]) to ContinuousFuture(92410653796532224 [HO, 0, volume, mul])"
      ]
     },
     "execution_count": 78,
     "metadata": {},
     "output_type": "execute_result"
    }
   ],
   "source": [
    "futures_prices.dropna(axis=2, inplace=True)\n",
    "\n",
    "futures_prices"
   ]
  },
  {
   "cell_type": "code",
   "execution_count": 79,
   "metadata": {
    "collapsed": false
   },
   "outputs": [
    {
     "data": {
      "text/plain": [
       "<class 'pandas.core.panel.Panel'>\n",
       "Dimensions: 14 (items) x 25 (major_axis) x 4 (minor_axis)\n",
       "Items axis: ContinuousFuture(96074226540281856 [US, 0, volume, mul]) to ContinuousFuture(92410653796532224 [HO, 0, volume, mul])\n",
       "Major_axis axis: 2017-02-27 00:00:00+00:00 to 2017-03-31 00:00:00+00:00\n",
       "Minor_axis axis: price to close_price"
      ]
     },
     "execution_count": 79,
     "metadata": {},
     "output_type": "execute_result"
    }
   ],
   "source": [
    "if len(futures_prices.items) == 4:\n",
    "    futures_prices = futures_prices.transpose(2, 1, 0)\n",
    "    futures_prices = futures_prices.reindex()\n",
    "\n",
    "futures_prices"
   ]
  },
  {
   "cell_type": "code",
   "execution_count": 94,
   "metadata": {
    "collapsed": false
   },
   "outputs": [
    {
     "data": {
      "text/plain": [
       "{'BP': 0.010249999999999959,\n",
       " 'CD': 0.0043000000000000035,\n",
       " 'CL': 1.2441000000000009,\n",
       " 'ED': 0.02049999999999912,\n",
       " 'GC': 12.243899999999963,\n",
       " 'HG': 0.04830000000000001,\n",
       " 'HO': 0.033899999999999951,\n",
       " 'JY': 0.0,\n",
       " 'SB': 0.0051999999999999989,\n",
       " 'SF': 0.0065500000000000332,\n",
       " 'SP': 15.539249999999925,\n",
       " 'SV': 0.26300000000000096,\n",
       " 'TY': 0.48739999999999883,\n",
       " 'US': 1.1889500000000026}"
      ]
     },
     "execution_count": 94,
     "metadata": {},
     "output_type": "execute_result"
    }
   ],
   "source": [
    "from talib import ATR\n",
    "\n",
    "AVERAGE_TRUE_RANGE_SLIDING_WINDOW = 21\n",
    "MOVING_AVERAGE = 20\n",
    "\n",
    "context_average_true_range = {}\n",
    "\n",
    "for market in futures_prices.items:\n",
    "    volatility = ATR(\n",
    "        futures_prices[market].high[-AVERAGE_TRUE_RANGE_SLIDING_WINDOW:],\n",
    "        futures_prices[market].low[-AVERAGE_TRUE_RANGE_SLIDING_WINDOW:],\n",
    "        futures_prices[market].close_price[-AVERAGE_TRUE_RANGE_SLIDING_WINDOW:],\n",
    "        timeperiod=MOVING_AVERAGE\n",
    "    )[-1]\n",
    "    \n",
    "    context_average_true_range[market.root_symbol] = volatility\n",
    "    \n",
    "context_average_true_range"
   ]
  },
  {
   "cell_type": "code",
   "execution_count": 6,
   "metadata": {
    "collapsed": false
   },
   "outputs": [
    {
     "data": {
      "text/plain": [
       "1.3402499999999962"
      ]
     },
     "execution_count": 6,
     "metadata": {},
     "output_type": "execute_result"
    }
   ],
   "source": [
    "from talib import ATR\n",
    "\n",
    "AVERAGE_TRUE_RANGE_SLIDING_WINDOW = 21\n",
    "MOVING_AVERAGE = 20\n",
    "\n",
    "volatility = ATR(\n",
    "    prices.high[-AVERAGE_TRUE_RANGE_SLIDING_WINDOW:],\n",
    "    prices.low[-AVERAGE_TRUE_RANGE_SLIDING_WINDOW:],\n",
    "    prices.close_price[-AVERAGE_TRUE_RANGE_SLIDING_WINDOW:],\n",
    "    timeperiod=MOVING_AVERAGE\n",
    ")[-1]\n",
    "\n",
    "volatility"
   ]
  },
  {
   "cell_type": "code",
   "execution_count": 7,
   "metadata": {
    "collapsed": false
   },
   "outputs": [
    {
     "data": {
      "text/plain": [
       "1.3402499999999962"
      ]
     },
     "execution_count": 7,
     "metadata": {},
     "output_type": "execute_result"
    }
   ],
   "source": [
    "DOLLARS_PER_POINT = 1\n",
    "\n",
    "dollar_volatility = volatility * DOLLARS_PER_POINT\n",
    "\n",
    "dollar_volatility"
   ]
  },
  {
   "cell_type": "code",
   "execution_count": 8,
   "metadata": {
    "collapsed": false
   },
   "outputs": [
    {
     "data": {
      "text/plain": [
       "5969"
      ]
     },
     "execution_count": 8,
     "metadata": {},
     "output_type": "execute_result"
    }
   ],
   "source": [
    "CAPITAL_PERCENTAGE_PER_TRADE = 0.01\n",
    "START_CAPITAL = 1000000\n",
    "CURRENT_CAPITAL = 900000\n",
    "CAPITAL_MULTIPLIER = 2\n",
    "\n",
    "profit = CURRENT_CAPITAL - START_CAPITAL\n",
    "available_capital = START_CAPITAL\n",
    "\n",
    "if profit < 0:\n",
    "    available_capital = START_CAPITAL + profit * CAPITAL_MULTIPLIER\n",
    "\n",
    "capital_per_trade = available_capital * CAPITAL_PERCENTAGE_PER_TRADE\n",
    "trade_size = capital_per_trade / dollar_volatility\n",
    "\n",
    "int(trade_size)"
   ]
  },
  {
   "cell_type": "markdown",
   "metadata": {},
   "source": [
    "# get-entry-signal"
   ]
  },
  {
   "cell_type": "code",
   "execution_count": 9,
   "metadata": {
    "collapsed": false
   },
   "outputs": [],
   "source": [
    "TWENTY_DAY_BREAKOUT = 20\n",
    "FIFTY_FIVE_DAY_BREAKOUT = 55"
   ]
  },
  {
   "cell_type": "code",
   "execution_count": 10,
   "metadata": {
    "collapsed": false
   },
   "outputs": [
    {
     "data": {
      "text/plain": [
       "240.19"
      ]
     },
     "execution_count": 10,
     "metadata": {},
     "output_type": "execute_result"
    }
   ],
   "source": [
    "twenty_day_high = prices.high[-TWENTY_DAY_BREAKOUT:].max()\n",
    "\n",
    "twenty_day_high"
   ]
  },
  {
   "cell_type": "code",
   "execution_count": 11,
   "metadata": {
    "collapsed": false
   },
   "outputs": [
    {
     "data": {
      "text/plain": [
       "240.19"
      ]
     },
     "execution_count": 11,
     "metadata": {},
     "output_type": "execute_result"
    }
   ],
   "source": [
    "fifty_five_day_high = prices.high[-FIFTY_FIVE_DAY_BREAKOUT:].max()\n",
    "\n",
    "fifty_five_day_high"
   ]
  },
  {
   "cell_type": "code",
   "execution_count": 12,
   "metadata": {
    "collapsed": false
   },
   "outputs": [
    {
     "data": {
      "text/plain": [
       "232.88"
      ]
     },
     "execution_count": 12,
     "metadata": {},
     "output_type": "execute_result"
    }
   ],
   "source": [
    "twenty_day_low = prices.low[-TWENTY_DAY_BREAKOUT:].min()\n",
    "\n",
    "twenty_day_low"
   ]
  },
  {
   "cell_type": "code",
   "execution_count": 13,
   "metadata": {
    "collapsed": false
   },
   "outputs": [
    {
     "data": {
      "text/plain": [
       "231.61000000000001"
      ]
     },
     "execution_count": 13,
     "metadata": {},
     "output_type": "execute_result"
    }
   ],
   "source": [
    "fifty_five_day_low = prices.low[-FIFTY_FIVE_DAY_BREAKOUT:].min()\n",
    "\n",
    "fifty_five_day_low"
   ]
  },
  {
   "cell_type": "code",
   "execution_count": 14,
   "metadata": {
    "collapsed": false
   },
   "outputs": [
    {
     "data": {
      "text/plain": [
       "239.03"
      ]
     },
     "execution_count": 14,
     "metadata": {},
     "output_type": "execute_result"
    }
   ],
   "source": [
    "latest_price = prices.price[-1]\n",
    "\n",
    "latest_price"
   ]
  },
  {
   "cell_type": "code",
   "execution_count": 15,
   "metadata": {
    "collapsed": false
   },
   "outputs": [
    {
     "name": "stdout",
     "output_type": "stream",
     "text": [
      "System one: No signal\n"
     ]
    }
   ],
   "source": [
    "def get_system_one_entry_signal():\n",
    "    \"\"\"\n",
    "    Get 20 day breakout entry signal.\n",
    "    \n",
    "    Does not factor in outcome of previous entry signal.\n",
    "    \"\"\"\n",
    "    if latest_price > twenty_day_high:\n",
    "        print('System one: Long %s %i@%.2f' % (symbols, trade_size, latest_price))\n",
    "    elif latest_price < twenty_day_low:\n",
    "        print('System one: Short %s %i@%.2f' % (symbols, trade_size, latest_price))\n",
    "    else:\n",
    "        print('System one: No signal')\n",
    "        \n",
    "get_system_one_entry_signal()"
   ]
  },
  {
   "cell_type": "code",
   "execution_count": 16,
   "metadata": {
    "collapsed": false
   },
   "outputs": [
    {
     "name": "stdout",
     "output_type": "stream",
     "text": [
      "System two: No signal\n"
     ]
    }
   ],
   "source": [
    "def get_system_two_entry_signal():\n",
    "    \"\"\"\n",
    "    Get 55 day breakout entry signal.\n",
    "    \"\"\"\n",
    "    if latest_price > fifty_five_day_high:\n",
    "        print('System two: Long %s %i@%.2f' % (symbols, trade_size, latest_price))\n",
    "    elif latest_price < fifty_five_day_low:\n",
    "        print('System two: Short %s %i@%.2f' % (symbols, trade_size, latest_price))\n",
    "    else:\n",
    "        print('System two: No signal')\n",
    "        \n",
    "get_system_two_entry_signal()"
   ]
  },
  {
   "cell_type": "code",
   "execution_count": 17,
   "metadata": {
    "collapsed": false
   },
   "outputs": [
    {
     "name": "stdout",
     "output_type": "stream",
     "text": [
      "System one: No signal\n"
     ]
    }
   ],
   "source": [
    "latest_price = 240\n",
    "\n",
    "get_system_one_entry_signal()"
   ]
  },
  {
   "cell_type": "code",
   "execution_count": 18,
   "metadata": {
    "collapsed": false
   },
   "outputs": [
    {
     "name": "stdout",
     "output_type": "stream",
     "text": [
      "System one: Short SPY 5969@232.00\n"
     ]
    }
   ],
   "source": [
    "latest_price = 232\n",
    "\n",
    "get_system_one_entry_signal()"
   ]
  },
  {
   "cell_type": "code",
   "execution_count": 19,
   "metadata": {
    "collapsed": false
   },
   "outputs": [
    {
     "name": "stdout",
     "output_type": "stream",
     "text": [
      "System two: No signal\n"
     ]
    }
   ],
   "source": [
    "latest_price = 240\n",
    "\n",
    "get_system_two_entry_signal()"
   ]
  },
  {
   "cell_type": "code",
   "execution_count": 20,
   "metadata": {
    "collapsed": false
   },
   "outputs": [
    {
     "name": "stdout",
     "output_type": "stream",
     "text": [
      "System two: Short SPY 5969@231.00\n"
     ]
    }
   ],
   "source": [
    "latest_price = 231\n",
    "\n",
    "get_system_two_entry_signal()"
   ]
  },
  {
   "cell_type": "code",
   "execution_count": 21,
   "metadata": {
    "collapsed": false
   },
   "outputs": [],
   "source": [
    "def add_unit():\n",
    "    \"\"\"\n",
    "    Add to position if price exceeds threshold.\n",
    "    \"\"\"\n",
    "    previous_fill_price = 240\n",
    "\n",
    "    long_threshold = previous_fill_price + volatility / 2\n",
    "    short_threshold = previous_fill_price - volatility / 2\n",
    "\n",
    "    if latest_price > long_threshold:\n",
    "        print('Long %s %i@%.2f' % (symbols, trade_size, latest_price))\n",
    "    elif latest_price < short_threshold:\n",
    "        print('Short %s %i@%.2f' % (symbols, trade_size, latest_price))\n",
    "    else:\n",
    "        print('No signal')"
   ]
  },
  {
   "cell_type": "code",
   "execution_count": 22,
   "metadata": {
    "collapsed": false
   },
   "outputs": [
    {
     "name": "stdout",
     "output_type": "stream",
     "text": [
      "Long SPY 5969@241.00\n"
     ]
    }
   ],
   "source": [
    "latest_price = 241\n",
    "\n",
    "add_unit()"
   ]
  },
  {
   "cell_type": "code",
   "execution_count": 23,
   "metadata": {
    "collapsed": false
   },
   "outputs": [
    {
     "name": "stdout",
     "output_type": "stream",
     "text": [
      "Short SPY 5969@239.00\n"
     ]
    }
   ],
   "source": [
    "latest_price = 239\n",
    "\n",
    "add_unit()"
   ]
  },
  {
   "cell_type": "code",
   "execution_count": 24,
   "metadata": {
    "collapsed": false
   },
   "outputs": [
    {
     "name": "stdout",
     "output_type": "stream",
     "text": [
      "No signal\n"
     ]
    }
   ],
   "source": [
    "latest_price = 239.5\n",
    "\n",
    "add_unit()"
   ]
  },
  {
   "cell_type": "markdown",
   "metadata": {},
   "source": [
    "# compute-stop"
   ]
  },
  {
   "cell_type": "code",
   "execution_count": 25,
   "metadata": {
    "collapsed": false
   },
   "outputs": [
    {
     "data": {
      "text/plain": [
       "237.31950000000001"
      ]
     },
     "execution_count": 25,
     "metadata": {},
     "output_type": "execute_result"
    }
   ],
   "source": [
    "STOP_MULTIPLIER = 2\n",
    "\n",
    "entry_price = 240\n",
    "stop = entry_price - volatility * STOP_MULTIPLIER\n",
    "\n",
    "stop"
   ]
  },
  {
   "cell_type": "code",
   "execution_count": 26,
   "metadata": {
    "collapsed": false
   },
   "outputs": [
    {
     "data": {
      "text/plain": [
       "239.32987500000002"
      ]
     },
     "execution_count": 26,
     "metadata": {},
     "output_type": "execute_result"
    }
   ],
   "source": [
    "# Re-enter if price hits entry price after stopped out\n",
    "STOP_MULTIPLIER = 0.5\n",
    "\n",
    "entry_price = 240\n",
    "stop = entry_price - volatility * STOP_MULTIPLIER\n",
    "\n",
    "stop"
   ]
  },
  {
   "cell_type": "markdown",
   "metadata": {},
   "source": [
    "# get-exit-signal"
   ]
  },
  {
   "cell_type": "code",
   "execution_count": 27,
   "metadata": {
    "collapsed": true
   },
   "outputs": [],
   "source": [
    "TEN_DAY_EXIT_BREAKOUT = 10\n",
    "TWENTY_DAY_EXIT_BREAKOUT = 20"
   ]
  },
  {
   "cell_type": "code",
   "execution_count": 28,
   "metadata": {
    "collapsed": false
   },
   "outputs": [
    {
     "data": {
      "text/plain": [
       "240.19"
      ]
     },
     "execution_count": 28,
     "metadata": {},
     "output_type": "execute_result"
    }
   ],
   "source": [
    "ten_day_high = prices.high[-TEN_DAY_EXIT_BREAKOUT:].max()\n",
    "\n",
    "ten_day_high"
   ]
  },
  {
   "cell_type": "code",
   "execution_count": 29,
   "metadata": {
    "collapsed": false
   },
   "outputs": [
    {
     "data": {
      "text/plain": [
       "237.69999999999999"
      ]
     },
     "execution_count": 29,
     "metadata": {},
     "output_type": "execute_result"
    }
   ],
   "source": [
    "ten_day_low = prices.low[-TEN_DAY_EXIT_BREAKOUT:].min()\n",
    "\n",
    "ten_day_low"
   ]
  },
  {
   "cell_type": "code",
   "execution_count": 30,
   "metadata": {
    "collapsed": false
   },
   "outputs": [
    {
     "data": {
      "text/plain": [
       "240.19"
      ]
     },
     "execution_count": 30,
     "metadata": {},
     "output_type": "execute_result"
    }
   ],
   "source": [
    "twenty_day_high = prices.high[-TWENTY_DAY_EXIT_BREAKOUT:].max()\n",
    "\n",
    "twenty_day_high"
   ]
  },
  {
   "cell_type": "code",
   "execution_count": 31,
   "metadata": {
    "collapsed": false
   },
   "outputs": [
    {
     "data": {
      "text/plain": [
       "232.88"
      ]
     },
     "execution_count": 31,
     "metadata": {},
     "output_type": "execute_result"
    }
   ],
   "source": [
    "twenty_day_low = prices.low[-TWENTY_DAY_EXIT_BREAKOUT:].min()\n",
    "\n",
    "twenty_day_low"
   ]
  },
  {
   "cell_type": "code",
   "execution_count": 32,
   "metadata": {
    "collapsed": true
   },
   "outputs": [],
   "source": [
    "def get_system_one_exit_signal():\n",
    "    if position_type == 'long' and latest_price < ten_day_low \\\n",
    "            or position_type == 'short' and latest_price > ten_day_high:\n",
    "        print('System one: Close %s' % symbols)\n",
    "    else:\n",
    "        print('System one: No signal')"
   ]
  },
  {
   "cell_type": "code",
   "execution_count": 33,
   "metadata": {
    "collapsed": true
   },
   "outputs": [],
   "source": [
    "def get_system_two_exit_signal():\n",
    "    if position_type == 'long' and latest_price < twenty_day_low \\\n",
    "            or position_type == 'short' and latest_price > twenty_day_high:\n",
    "        print('System two: Close %s' % symbols)\n",
    "    else:\n",
    "        print('System two: No signal')"
   ]
  },
  {
   "cell_type": "code",
   "execution_count": 34,
   "metadata": {
    "collapsed": false
   },
   "outputs": [
    {
     "name": "stdout",
     "output_type": "stream",
     "text": [
      "System one: Close SPY\n"
     ]
    }
   ],
   "source": [
    "position_type = 'long'\n",
    "latest_price = 236\n",
    "\n",
    "get_system_one_exit_signal()"
   ]
  },
  {
   "cell_type": "code",
   "execution_count": 35,
   "metadata": {
    "collapsed": false
   },
   "outputs": [
    {
     "name": "stdout",
     "output_type": "stream",
     "text": [
      "System one: No signal\n"
     ]
    }
   ],
   "source": [
    "position_type = 'short'\n",
    "latest_price = 240\n",
    "\n",
    "get_system_one_exit_signal()"
   ]
  },
  {
   "cell_type": "code",
   "execution_count": 36,
   "metadata": {
    "collapsed": false
   },
   "outputs": [
    {
     "name": "stdout",
     "output_type": "stream",
     "text": [
      "System one: Close SPY\n"
     ]
    }
   ],
   "source": [
    "position_type = 'long'\n",
    "latest_price = 237\n",
    "\n",
    "get_system_one_exit_signal()"
   ]
  },
  {
   "cell_type": "code",
   "execution_count": 37,
   "metadata": {
    "collapsed": false
   },
   "outputs": [
    {
     "name": "stdout",
     "output_type": "stream",
     "text": [
      "System two: Close SPY\n"
     ]
    }
   ],
   "source": [
    "position_type = 'long'\n",
    "latest_price = 232\n",
    "\n",
    "get_system_two_exit_signal()"
   ]
  },
  {
   "cell_type": "code",
   "execution_count": 38,
   "metadata": {
    "collapsed": false
   },
   "outputs": [
    {
     "name": "stdout",
     "output_type": "stream",
     "text": [
      "System two: No signal\n"
     ]
    }
   ],
   "source": [
    "position_type = 'short'\n",
    "latest_price = 240\n",
    "\n",
    "get_system_two_exit_signal()"
   ]
  },
  {
   "cell_type": "code",
   "execution_count": 39,
   "metadata": {
    "collapsed": false
   },
   "outputs": [
    {
     "name": "stdout",
     "output_type": "stream",
     "text": [
      "System two: No signal\n"
     ]
    }
   ],
   "source": [
    "position_type = 'long'\n",
    "latest_price = 233\n",
    "\n",
    "get_system_two_exit_signal()"
   ]
  }
 ],
 "metadata": {
  "kernelspec": {
   "display_name": "Python 2",
   "language": "python",
   "name": "python2"
  },
  "language_info": {
   "codemirror_mode": {
    "name": "ipython",
    "version": 2
   },
   "file_extension": ".py",
   "mimetype": "text/x-python",
   "name": "python",
   "nbconvert_exporter": "python",
   "pygments_lexer": "ipython2",
   "version": "2.7.12"
  }
 },
 "nbformat": 4,
 "nbformat_minor": 2
}