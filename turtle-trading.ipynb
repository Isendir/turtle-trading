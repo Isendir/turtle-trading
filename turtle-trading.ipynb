{
 "cells": [
  {
   "cell_type": "code",
   "execution_count": 142,
   "metadata": {
    "collapsed": false
   },
   "outputs": [],
   "source": [
    "context = {}\n",
    "\n",
    "context['symbols'] = [\n",
    "    'BP',\n",
    "    'CD',\n",
    "    'CL',\n",
    "    'ED',\n",
    "    'GC',\n",
    "    'HG',\n",
    "    'HO',\n",
    "    'HU',\n",
    "    'JY',\n",
    "    'SB',\n",
    "    'SF',\n",
    "    'SP',\n",
    "    'SV',\n",
    "    'TB',\n",
    "    'TY',\n",
    "    'US'\n",
    "]\n",
    "\n",
    "assert(len(context['symbols']) == 16)"
   ]
  },
  {
   "cell_type": "code",
   "execution_count": 144,
   "metadata": {
    "collapsed": false
   },
   "outputs": [],
   "source": [
    "from quantopian.research.experimental import continuous_future\n",
    "\n",
    "context['markets'] = map(\n",
    "    lambda market: continuous_future(market),\n",
    "    context['symbols']\n",
    ")\n",
    "\n",
    "assert(len(context['markets']) == 16)"
   ]
  },
  {
   "cell_type": "code",
   "execution_count": 188,
   "metadata": {
    "collapsed": false
   },
   "outputs": [],
   "source": [
    "from quantopian.research.experimental import history\n",
    "\n",
    "fields = ['high', 'low', 'close_price']\n",
    "start_date = '2017-02-27'\n",
    "end_date = '2017-03-31'\n",
    "frequency = 'daily'\n",
    "\n",
    "context['prices'] = history(\n",
    "    context['markets'],\n",
    "    fields=fields,\n",
    "    frequency=frequency,\n",
    "    start_date=start_date,\n",
    "    end_date=end_date\n",
    ")\n",
    "\n",
    "assert(context['prices'].shape == (3, 25, 16))"
   ]
  },
  {
   "cell_type": "code",
   "execution_count": 189,
   "metadata": {
    "collapsed": false
   },
   "outputs": [],
   "source": [
    "context['prices'].dropna(axis=2, inplace=True)\n",
    "\n",
    "assert(context['prices'].shape == (3, 25, 14))"
   ]
  },
  {
   "cell_type": "code",
   "execution_count": 190,
   "metadata": {
    "collapsed": false
   },
   "outputs": [],
   "source": [
    "if len(context['prices'].items) == len(fields):\n",
    "    context['prices'] = context['prices'].transpose(2, 1, 0)\n",
    "    context['prices'] = context['prices'].reindex()\n",
    "\n",
    "assert(context['prices'].shape == (14, 25, 3))"
   ]
  },
  {
   "cell_type": "code",
   "execution_count": 238,
   "metadata": {
    "collapsed": false
   },
   "outputs": [
    {
     "data": {
      "text/plain": [
       "{ContinuousFuture(90722903447896064, root_symbol='BP', offset=0, roll_style='volume', adjustment='mul'): 0.010249999999999959,\n",
       " ContinuousFuture(90991184285073408, root_symbol='CD', offset=0, roll_style='volume', adjustment='mul'): 0.0043000000000000035,\n",
       " ContinuousFuture(90999980378095616, root_symbol='CL', offset=0, roll_style='volume', adjustment='mul'): 1.2441000000000009,\n",
       " ContinuousFuture(91554134238494720, root_symbol='ED', offset=0, roll_style='volume', adjustment='mul'): 0.02049999999999912,\n",
       " ContinuousFuture(92115984680288256, root_symbol='GC', offset=0, roll_style='volume', adjustment='mul'): 12.243899999999963,\n",
       " ContinuousFuture(92401857703510016, root_symbol='HG', offset=0, roll_style='volume', adjustment='mul'): 0.04830000000000001,\n",
       " ContinuousFuture(92410653796532224, root_symbol='HO', offset=0, roll_style='volume', adjustment='mul'): 0.033899999999999951,\n",
       " ContinuousFuture(92984598866231296, root_symbol='JY', offset=0, roll_style='volume', adjustment='mul'): 0.0,\n",
       " ContinuousFuture(95492584889188352, root_symbol='SB', offset=0, roll_style='volume', adjustment='mul'): 0.0051999999999999989,\n",
       " ContinuousFuture(95496982935699456, root_symbol='SF', offset=0, roll_style='volume', adjustment='mul'): 0.0065500000000000332,\n",
       " ContinuousFuture(95507978051977216, root_symbol='SP', offset=0, roll_style='volume', adjustment='mul'): 15.539249999999925,\n",
       " ContinuousFuture(95514575121743872, root_symbol='SV', offset=0, roll_style='volume', adjustment='mul'): 0.26300000000000096,\n",
       " ContinuousFuture(95799348633337856, root_symbol='TY', offset=0, roll_style='volume', adjustment='mul'): 0.48739999999999883,\n",
       " ContinuousFuture(96074226540281856, root_symbol='US', offset=0, roll_style='volume', adjustment='mul'): 1.1889500000000026}"
      ]
     },
     "execution_count": 238,
     "metadata": {},
     "output_type": "execute_result"
    }
   ],
   "source": [
    "from talib import ATR\n",
    "\n",
    "context['average_true_range'] = {}\n",
    "\n",
    "rolling_window = 21\n",
    "moving_average = 20\n",
    "\n",
    "for market in context['prices'].items:\n",
    "    context['average_true_range'][market] = ATR(\n",
    "        context['prices'][market].high[-rolling_window:],\n",
    "        context['prices'][market].low[-rolling_window:],\n",
    "        context['prices'][market].close_price[-rolling_window:],\n",
    "        timeperiod=moving_average\n",
    "    )[-1]\n",
    "\n",
    "context['average_true_range']"
   ]
  },
  {
   "cell_type": "code",
   "execution_count": 239,
   "metadata": {
    "collapsed": false
   },
   "outputs": [],
   "source": [
    "fields = ['contract']\n",
    "start_date = '2017-03-31'\n",
    "end_date = '2017-03-31'\n",
    "\n",
    "context['contracts'] = history(\n",
    "    context['markets'],\n",
    "    fields=fields,\n",
    "    frequency=frequency,\n",
    "    start_date=start_date,\n",
    "    end_date=end_date\n",
    ")\n",
    "\n",
    "assert(context['contracts'].shape == (1, 1, 16))"
   ]
  },
  {
   "cell_type": "code",
   "execution_count": 240,
   "metadata": {
    "collapsed": false
   },
   "outputs": [],
   "source": [
    "if len(context['contracts'].items) == len(fields):\n",
    "    context['contracts'] = context['contracts'].transpose(2, 1, 0)\n",
    "    context['contracts'] = context['contracts'].reindex()\n",
    "\n",
    "assert(context['contracts'].shape == (16, 1, 1))"
   ]
  },
  {
   "cell_type": "code",
   "execution_count": 241,
   "metadata": {
    "collapsed": false
   },
   "outputs": [
    {
     "name": "stdout",
     "output_type": "stream",
     "text": [
      "(u'BPM17', 0.0001, 62500.0, Timestamp('2017-06-15 00:00:00+0000', tz='UTC'))\n",
      "(u'CDM17', 0.0001, 100000.0, Timestamp('2017-06-16 00:00:00+0000', tz='UTC'))\n",
      "(u'CLK17', 0.01, 1000.0, Timestamp('2017-04-18 00:00:00+0000', tz='UTC'))\n",
      "(u'EDJ17', 0.005, 2500.0, Timestamp('2017-04-12 00:00:00+0000', tz='UTC'))\n",
      "(u'GCM17', 0.1, 100.0, Timestamp('2017-05-29 00:00:00+0000', tz='UTC'))\n",
      "(u'HGK17', 0.0005, 25000.0, Timestamp('2017-04-26 00:00:00+0000', tz='UTC'))\n",
      "(u'HOK17', 0.0001, 42000.0, Timestamp('2017-04-26 00:00:00+0000', tz='UTC'))\n",
      "(u'JYM17', 5e-07, 12500000.0, Timestamp('2017-06-15 00:00:00+0000', tz='UTC'))\n",
      "(u'SBK17', 0.0001, 112000.0, Timestamp('2017-04-26 00:00:00+0000', tz='UTC'))\n",
      "(u'SFM17', 0.0001, 125000.0, Timestamp('2017-06-15 00:00:00+0000', tz='UTC'))\n",
      "(u'SPM17', 0.1, 250.0, Timestamp('2017-06-13 00:00:00+0000', tz='UTC'))\n",
      "(u'SVK17', 0.005, 5000.0, Timestamp('2017-04-26 00:00:00+0000', tz='UTC'))\n",
      "(u'TYM17', 0.015625, 1000.0, Timestamp('2017-05-29 00:00:00+0000', tz='UTC'))\n",
      "(u'USM17', 0.03125, 1000.0, Timestamp('2017-05-29 00:00:00+0000', tz='UTC'))\n"
     ]
    }
   ],
   "source": [
    "for market in context['contracts']:\n",
    "    contract = context['contracts'][market].contract[0]\n",
    "    \n",
    "    if contract is not None:\n",
    "        print(\n",
    "            contract.symbol,\n",
    "            contract.tick_size,\n",
    "            contract.multiplier,\n",
    "            contract.auto_close_date\n",
    "        )"
   ]
  },
  {
   "cell_type": "code",
   "execution_count": 250,
   "metadata": {
    "collapsed": false
   },
   "outputs": [
    {
     "name": "stdout",
     "output_type": "stream",
     "text": [
      "('BP', 1.0249999999999959e-06)\n",
      "('CD', 4.3000000000000038e-07)\n",
      "('CL', 0.012441000000000009)\n",
      "('ED', 0.00010249999999999561)\n",
      "('GC', 1.2243899999999963)\n",
      "('HG', 2.4150000000000004e-05)\n",
      "('HO', 3.3899999999999951e-06)\n",
      "('JY', 0.0)\n",
      "('SB', 5.1999999999999989e-07)\n",
      "('SF', 6.5500000000000336e-07)\n",
      "('SP', 1.5539249999999925)\n",
      "('SV', 0.0013150000000000048)\n",
      "('TY', 0.0076156249999999818)\n",
      "('US', 0.037154687500000082)\n"
     ]
    }
   ],
   "source": [
    "for market in context['contracts']:\n",
    "    contract = context['contracts'][market].contract[0]\n",
    "    \n",
    "    if contract is not None:\n",
    "        dollar_volatility = contract.tick_size * context['average_true_range'][market]\n",
    "        \n",
    "        print(market.root_symbol, dollar_volatility)"
   ]
  },
  {
   "cell_type": "code",
   "execution_count": 8,
   "metadata": {
    "collapsed": false
   },
   "outputs": [
    {
     "data": {
      "text/plain": [
       "5969"
      ]
     },
     "execution_count": 8,
     "metadata": {},
     "output_type": "execute_result"
    }
   ],
   "source": [
    "CAPITAL_PERCENTAGE_PER_TRADE = 0.01\n",
    "START_CAPITAL = 1000000\n",
    "CURRENT_CAPITAL = 900000\n",
    "CAPITAL_MULTIPLIER = 2\n",
    "\n",
    "profit = CURRENT_CAPITAL - START_CAPITAL\n",
    "available_capital = START_CAPITAL\n",
    "\n",
    "if profit < 0:\n",
    "    available_capital = START_CAPITAL + profit * CAPITAL_MULTIPLIER\n",
    "\n",
    "capital_per_trade = available_capital * CAPITAL_PERCENTAGE_PER_TRADE\n",
    "trade_size = capital_per_trade / dollar_volatility\n",
    "\n",
    "int(trade_size)"
   ]
  },
  {
   "cell_type": "code",
   "execution_count": 9,
   "metadata": {
    "collapsed": false
   },
   "outputs": [],
   "source": [
    "TWENTY_DAY_BREAKOUT = 20\n",
    "FIFTY_FIVE_DAY_BREAKOUT = 55"
   ]
  },
  {
   "cell_type": "code",
   "execution_count": 10,
   "metadata": {
    "collapsed": false
   },
   "outputs": [
    {
     "data": {
      "text/plain": [
       "240.19"
      ]
     },
     "execution_count": 10,
     "metadata": {},
     "output_type": "execute_result"
    }
   ],
   "source": [
    "twenty_day_high = prices.high[-TWENTY_DAY_BREAKOUT:].max()\n",
    "\n",
    "twenty_day_high"
   ]
  },
  {
   "cell_type": "code",
   "execution_count": 11,
   "metadata": {
    "collapsed": false
   },
   "outputs": [
    {
     "data": {
      "text/plain": [
       "240.19"
      ]
     },
     "execution_count": 11,
     "metadata": {},
     "output_type": "execute_result"
    }
   ],
   "source": [
    "fifty_five_day_high = prices.high[-FIFTY_FIVE_DAY_BREAKOUT:].max()\n",
    "\n",
    "fifty_five_day_high"
   ]
  },
  {
   "cell_type": "code",
   "execution_count": 12,
   "metadata": {
    "collapsed": false
   },
   "outputs": [
    {
     "data": {
      "text/plain": [
       "232.88"
      ]
     },
     "execution_count": 12,
     "metadata": {},
     "output_type": "execute_result"
    }
   ],
   "source": [
    "twenty_day_low = prices.low[-TWENTY_DAY_BREAKOUT:].min()\n",
    "\n",
    "twenty_day_low"
   ]
  },
  {
   "cell_type": "code",
   "execution_count": 13,
   "metadata": {
    "collapsed": false
   },
   "outputs": [
    {
     "data": {
      "text/plain": [
       "231.61000000000001"
      ]
     },
     "execution_count": 13,
     "metadata": {},
     "output_type": "execute_result"
    }
   ],
   "source": [
    "fifty_five_day_low = prices.low[-FIFTY_FIVE_DAY_BREAKOUT:].min()\n",
    "\n",
    "fifty_five_day_low"
   ]
  },
  {
   "cell_type": "code",
   "execution_count": 14,
   "metadata": {
    "collapsed": false
   },
   "outputs": [
    {
     "data": {
      "text/plain": [
       "239.03"
      ]
     },
     "execution_count": 14,
     "metadata": {},
     "output_type": "execute_result"
    }
   ],
   "source": [
    "latest_price = prices.price[-1]\n",
    "\n",
    "latest_price"
   ]
  },
  {
   "cell_type": "code",
   "execution_count": 15,
   "metadata": {
    "collapsed": false
   },
   "outputs": [
    {
     "name": "stdout",
     "output_type": "stream",
     "text": [
      "System one: No signal\n"
     ]
    }
   ],
   "source": [
    "def get_system_one_entry_signal():\n",
    "    \"\"\"\n",
    "    Get 20 day breakout entry signal.\n",
    "    \n",
    "    Does not factor in outcome of previous entry signal.\n",
    "    \"\"\"\n",
    "    if latest_price > twenty_day_high:\n",
    "        print('System one: Long %s %i@%.2f' % (symbols, trade_size, latest_price))\n",
    "    elif latest_price < twenty_day_low:\n",
    "        print('System one: Short %s %i@%.2f' % (symbols, trade_size, latest_price))\n",
    "    else:\n",
    "        print('System one: No signal')\n",
    "        \n",
    "get_system_one_entry_signal()"
   ]
  },
  {
   "cell_type": "code",
   "execution_count": 16,
   "metadata": {
    "collapsed": false
   },
   "outputs": [
    {
     "name": "stdout",
     "output_type": "stream",
     "text": [
      "System two: No signal\n"
     ]
    }
   ],
   "source": [
    "def get_system_two_entry_signal():\n",
    "    \"\"\"\n",
    "    Get 55 day breakout entry signal.\n",
    "    \"\"\"\n",
    "    if latest_price > fifty_five_day_high:\n",
    "        print('System two: Long %s %i@%.2f' % (symbols, trade_size, latest_price))\n",
    "    elif latest_price < fifty_five_day_low:\n",
    "        print('System two: Short %s %i@%.2f' % (symbols, trade_size, latest_price))\n",
    "    else:\n",
    "        print('System two: No signal')\n",
    "        \n",
    "get_system_two_entry_signal()"
   ]
  },
  {
   "cell_type": "code",
   "execution_count": 17,
   "metadata": {
    "collapsed": false
   },
   "outputs": [
    {
     "name": "stdout",
     "output_type": "stream",
     "text": [
      "System one: No signal\n"
     ]
    }
   ],
   "source": [
    "latest_price = 240\n",
    "\n",
    "get_system_one_entry_signal()"
   ]
  },
  {
   "cell_type": "code",
   "execution_count": 18,
   "metadata": {
    "collapsed": false
   },
   "outputs": [
    {
     "name": "stdout",
     "output_type": "stream",
     "text": [
      "System one: Short SPY 5969@232.00\n"
     ]
    }
   ],
   "source": [
    "latest_price = 232\n",
    "\n",
    "get_system_one_entry_signal()"
   ]
  },
  {
   "cell_type": "code",
   "execution_count": 19,
   "metadata": {
    "collapsed": false
   },
   "outputs": [
    {
     "name": "stdout",
     "output_type": "stream",
     "text": [
      "System two: No signal\n"
     ]
    }
   ],
   "source": [
    "latest_price = 240\n",
    "\n",
    "get_system_two_entry_signal()"
   ]
  },
  {
   "cell_type": "code",
   "execution_count": 20,
   "metadata": {
    "collapsed": false
   },
   "outputs": [
    {
     "name": "stdout",
     "output_type": "stream",
     "text": [
      "System two: Short SPY 5969@231.00\n"
     ]
    }
   ],
   "source": [
    "latest_price = 231\n",
    "\n",
    "get_system_two_entry_signal()"
   ]
  },
  {
   "cell_type": "code",
   "execution_count": 21,
   "metadata": {
    "collapsed": false
   },
   "outputs": [],
   "source": [
    "def add_unit():\n",
    "    \"\"\"\n",
    "    Add to position if price exceeds threshold.\n",
    "    \"\"\"\n",
    "    previous_fill_price = 240\n",
    "\n",
    "    long_threshold = previous_fill_price + volatility / 2\n",
    "    short_threshold = previous_fill_price - volatility / 2\n",
    "\n",
    "    if latest_price > long_threshold:\n",
    "        print('Long %s %i@%.2f' % (symbols, trade_size, latest_price))\n",
    "    elif latest_price < short_threshold:\n",
    "        print('Short %s %i@%.2f' % (symbols, trade_size, latest_price))\n",
    "    else:\n",
    "        print('No signal')"
   ]
  },
  {
   "cell_type": "code",
   "execution_count": 22,
   "metadata": {
    "collapsed": false
   },
   "outputs": [
    {
     "name": "stdout",
     "output_type": "stream",
     "text": [
      "Long SPY 5969@241.00\n"
     ]
    }
   ],
   "source": [
    "latest_price = 241\n",
    "\n",
    "add_unit()"
   ]
  },
  {
   "cell_type": "code",
   "execution_count": 23,
   "metadata": {
    "collapsed": false
   },
   "outputs": [
    {
     "name": "stdout",
     "output_type": "stream",
     "text": [
      "Short SPY 5969@239.00\n"
     ]
    }
   ],
   "source": [
    "latest_price = 239\n",
    "\n",
    "add_unit()"
   ]
  },
  {
   "cell_type": "code",
   "execution_count": 24,
   "metadata": {
    "collapsed": false
   },
   "outputs": [
    {
     "name": "stdout",
     "output_type": "stream",
     "text": [
      "No signal\n"
     ]
    }
   ],
   "source": [
    "latest_price = 239.5\n",
    "\n",
    "add_unit()"
   ]
  },
  {
   "cell_type": "code",
   "execution_count": 25,
   "metadata": {
    "collapsed": false
   },
   "outputs": [
    {
     "data": {
      "text/plain": [
       "237.31950000000001"
      ]
     },
     "execution_count": 25,
     "metadata": {},
     "output_type": "execute_result"
    }
   ],
   "source": [
    "STOP_MULTIPLIER = 2\n",
    "\n",
    "entry_price = 240\n",
    "stop = entry_price - volatility * STOP_MULTIPLIER\n",
    "\n",
    "stop"
   ]
  },
  {
   "cell_type": "code",
   "execution_count": 26,
   "metadata": {
    "collapsed": false
   },
   "outputs": [
    {
     "data": {
      "text/plain": [
       "239.32987500000002"
      ]
     },
     "execution_count": 26,
     "metadata": {},
     "output_type": "execute_result"
    }
   ],
   "source": [
    "# Re-enter if price hits entry price after stopped out\n",
    "STOP_MULTIPLIER = 0.5\n",
    "\n",
    "entry_price = 240\n",
    "stop = entry_price - volatility * STOP_MULTIPLIER\n",
    "\n",
    "stop"
   ]
  },
  {
   "cell_type": "code",
   "execution_count": 27,
   "metadata": {
    "collapsed": true
   },
   "outputs": [],
   "source": [
    "TEN_DAY_EXIT_BREAKOUT = 10\n",
    "TWENTY_DAY_EXIT_BREAKOUT = 20"
   ]
  },
  {
   "cell_type": "code",
   "execution_count": 28,
   "metadata": {
    "collapsed": false
   },
   "outputs": [
    {
     "data": {
      "text/plain": [
       "240.19"
      ]
     },
     "execution_count": 28,
     "metadata": {},
     "output_type": "execute_result"
    }
   ],
   "source": [
    "ten_day_high = prices.high[-TEN_DAY_EXIT_BREAKOUT:].max()\n",
    "\n",
    "ten_day_high"
   ]
  },
  {
   "cell_type": "code",
   "execution_count": 29,
   "metadata": {
    "collapsed": false
   },
   "outputs": [
    {
     "data": {
      "text/plain": [
       "237.69999999999999"
      ]
     },
     "execution_count": 29,
     "metadata": {},
     "output_type": "execute_result"
    }
   ],
   "source": [
    "ten_day_low = prices.low[-TEN_DAY_EXIT_BREAKOUT:].min()\n",
    "\n",
    "ten_day_low"
   ]
  },
  {
   "cell_type": "code",
   "execution_count": 30,
   "metadata": {
    "collapsed": false
   },
   "outputs": [
    {
     "data": {
      "text/plain": [
       "240.19"
      ]
     },
     "execution_count": 30,
     "metadata": {},
     "output_type": "execute_result"
    }
   ],
   "source": [
    "twenty_day_high = prices.high[-TWENTY_DAY_EXIT_BREAKOUT:].max()\n",
    "\n",
    "twenty_day_high"
   ]
  },
  {
   "cell_type": "code",
   "execution_count": 31,
   "metadata": {
    "collapsed": false
   },
   "outputs": [
    {
     "data": {
      "text/plain": [
       "232.88"
      ]
     },
     "execution_count": 31,
     "metadata": {},
     "output_type": "execute_result"
    }
   ],
   "source": [
    "twenty_day_low = prices.low[-TWENTY_DAY_EXIT_BREAKOUT:].min()\n",
    "\n",
    "twenty_day_low"
   ]
  },
  {
   "cell_type": "code",
   "execution_count": 32,
   "metadata": {
    "collapsed": true
   },
   "outputs": [],
   "source": [
    "def get_system_one_exit_signal():\n",
    "    if position_type == 'long' and latest_price < ten_day_low \\\n",
    "            or position_type == 'short' and latest_price > ten_day_high:\n",
    "        print('System one: Close %s' % symbols)\n",
    "    else:\n",
    "        print('System one: No signal')"
   ]
  },
  {
   "cell_type": "code",
   "execution_count": 33,
   "metadata": {
    "collapsed": true
   },
   "outputs": [],
   "source": [
    "def get_system_two_exit_signal():\n",
    "    if position_type == 'long' and latest_price < twenty_day_low \\\n",
    "            or position_type == 'short' and latest_price > twenty_day_high:\n",
    "        print('System two: Close %s' % symbols)\n",
    "    else:\n",
    "        print('System two: No signal')"
   ]
  },
  {
   "cell_type": "code",
   "execution_count": 34,
   "metadata": {
    "collapsed": false
   },
   "outputs": [
    {
     "name": "stdout",
     "output_type": "stream",
     "text": [
      "System one: Close SPY\n"
     ]
    }
   ],
   "source": [
    "position_type = 'long'\n",
    "latest_price = 236\n",
    "\n",
    "get_system_one_exit_signal()"
   ]
  },
  {
   "cell_type": "code",
   "execution_count": 35,
   "metadata": {
    "collapsed": false
   },
   "outputs": [
    {
     "name": "stdout",
     "output_type": "stream",
     "text": [
      "System one: No signal\n"
     ]
    }
   ],
   "source": [
    "position_type = 'short'\n",
    "latest_price = 240\n",
    "\n",
    "get_system_one_exit_signal()"
   ]
  },
  {
   "cell_type": "code",
   "execution_count": 36,
   "metadata": {
    "collapsed": false
   },
   "outputs": [
    {
     "name": "stdout",
     "output_type": "stream",
     "text": [
      "System one: Close SPY\n"
     ]
    }
   ],
   "source": [
    "position_type = 'long'\n",
    "latest_price = 237\n",
    "\n",
    "get_system_one_exit_signal()"
   ]
  },
  {
   "cell_type": "code",
   "execution_count": 37,
   "metadata": {
    "collapsed": false
   },
   "outputs": [
    {
     "name": "stdout",
     "output_type": "stream",
     "text": [
      "System two: Close SPY\n"
     ]
    }
   ],
   "source": [
    "position_type = 'long'\n",
    "latest_price = 232\n",
    "\n",
    "get_system_two_exit_signal()"
   ]
  },
  {
   "cell_type": "code",
   "execution_count": 38,
   "metadata": {
    "collapsed": false
   },
   "outputs": [
    {
     "name": "stdout",
     "output_type": "stream",
     "text": [
      "System two: No signal\n"
     ]
    }
   ],
   "source": [
    "position_type = 'short'\n",
    "latest_price = 240\n",
    "\n",
    "get_system_two_exit_signal()"
   ]
  },
  {
   "cell_type": "code",
   "execution_count": 39,
   "metadata": {
    "collapsed": false
   },
   "outputs": [
    {
     "name": "stdout",
     "output_type": "stream",
     "text": [
      "System two: No signal\n"
     ]
    }
   ],
   "source": [
    "position_type = 'long'\n",
    "latest_price = 233\n",
    "\n",
    "get_system_two_exit_signal()"
   ]
  }
 ],
 "metadata": {
  "kernelspec": {
   "display_name": "Python 2",
   "language": "python",
   "name": "python2"
  },
  "language_info": {
   "codemirror_mode": {
    "name": "ipython",
    "version": 2
   },
   "file_extension": ".py",
   "mimetype": "text/x-python",
   "name": "python",
   "nbconvert_exporter": "python",
   "pygments_lexer": "ipython2",
   "version": "2.7.12"
  }
 },
 "nbformat": 4,
 "nbformat_minor": 2
}